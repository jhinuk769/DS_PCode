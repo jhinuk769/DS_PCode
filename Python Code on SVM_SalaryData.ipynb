{
 "cells": [
  {
   "cell_type": "code",
   "execution_count": 1,
   "id": "14539795",
   "metadata": {},
   "outputs": [],
   "source": [
    "import pandas as pd\n",
    "import numpy as np\n",
    "from sklearn.preprocessing import StandardScaler\n",
    "from sklearn import svm\n",
    "from sklearn.svm import SVC\n",
    "from sklearn.model_selection import GridSearchCV\n",
    "from sklearn.metrics import classification_report\n",
    "from sklearn.metrics import accuracy_score, confusion_matrix\n",
    "from sklearn.model_selection import train_test_split, cross_val_score"
   ]
  },
  {
   "cell_type": "code",
   "execution_count": 2,
   "id": "24768178",
   "metadata": {},
   "outputs": [
    {
     "data": {
      "text/html": [
       "<div>\n",
       "<style scoped>\n",
       "    .dataframe tbody tr th:only-of-type {\n",
       "        vertical-align: middle;\n",
       "    }\n",
       "\n",
       "    .dataframe tbody tr th {\n",
       "        vertical-align: top;\n",
       "    }\n",
       "\n",
       "    .dataframe thead th {\n",
       "        text-align: right;\n",
       "    }\n",
       "</style>\n",
       "<table border=\"1\" class=\"dataframe\">\n",
       "  <thead>\n",
       "    <tr style=\"text-align: right;\">\n",
       "      <th></th>\n",
       "      <th>age</th>\n",
       "      <th>workclass</th>\n",
       "      <th>education</th>\n",
       "      <th>educationno</th>\n",
       "      <th>maritalstatus</th>\n",
       "      <th>occupation</th>\n",
       "      <th>relationship</th>\n",
       "      <th>race</th>\n",
       "      <th>sex</th>\n",
       "      <th>capitalgain</th>\n",
       "      <th>capitalloss</th>\n",
       "      <th>hoursperweek</th>\n",
       "      <th>native</th>\n",
       "      <th>Salary</th>\n",
       "    </tr>\n",
       "  </thead>\n",
       "  <tbody>\n",
       "    <tr>\n",
       "      <th>0</th>\n",
       "      <td>39</td>\n",
       "      <td>State-gov</td>\n",
       "      <td>Bachelors</td>\n",
       "      <td>13</td>\n",
       "      <td>Never-married</td>\n",
       "      <td>Adm-clerical</td>\n",
       "      <td>Not-in-family</td>\n",
       "      <td>White</td>\n",
       "      <td>Male</td>\n",
       "      <td>2174</td>\n",
       "      <td>0</td>\n",
       "      <td>40</td>\n",
       "      <td>United-States</td>\n",
       "      <td>&lt;=50K</td>\n",
       "    </tr>\n",
       "    <tr>\n",
       "      <th>1</th>\n",
       "      <td>50</td>\n",
       "      <td>Self-emp-not-inc</td>\n",
       "      <td>Bachelors</td>\n",
       "      <td>13</td>\n",
       "      <td>Married-civ-spouse</td>\n",
       "      <td>Exec-managerial</td>\n",
       "      <td>Husband</td>\n",
       "      <td>White</td>\n",
       "      <td>Male</td>\n",
       "      <td>0</td>\n",
       "      <td>0</td>\n",
       "      <td>13</td>\n",
       "      <td>United-States</td>\n",
       "      <td>&lt;=50K</td>\n",
       "    </tr>\n",
       "    <tr>\n",
       "      <th>2</th>\n",
       "      <td>38</td>\n",
       "      <td>Private</td>\n",
       "      <td>HS-grad</td>\n",
       "      <td>9</td>\n",
       "      <td>Divorced</td>\n",
       "      <td>Handlers-cleaners</td>\n",
       "      <td>Not-in-family</td>\n",
       "      <td>White</td>\n",
       "      <td>Male</td>\n",
       "      <td>0</td>\n",
       "      <td>0</td>\n",
       "      <td>40</td>\n",
       "      <td>United-States</td>\n",
       "      <td>&lt;=50K</td>\n",
       "    </tr>\n",
       "    <tr>\n",
       "      <th>3</th>\n",
       "      <td>53</td>\n",
       "      <td>Private</td>\n",
       "      <td>11th</td>\n",
       "      <td>7</td>\n",
       "      <td>Married-civ-spouse</td>\n",
       "      <td>Handlers-cleaners</td>\n",
       "      <td>Husband</td>\n",
       "      <td>Black</td>\n",
       "      <td>Male</td>\n",
       "      <td>0</td>\n",
       "      <td>0</td>\n",
       "      <td>40</td>\n",
       "      <td>United-States</td>\n",
       "      <td>&lt;=50K</td>\n",
       "    </tr>\n",
       "    <tr>\n",
       "      <th>4</th>\n",
       "      <td>28</td>\n",
       "      <td>Private</td>\n",
       "      <td>Bachelors</td>\n",
       "      <td>13</td>\n",
       "      <td>Married-civ-spouse</td>\n",
       "      <td>Prof-specialty</td>\n",
       "      <td>Wife</td>\n",
       "      <td>Black</td>\n",
       "      <td>Female</td>\n",
       "      <td>0</td>\n",
       "      <td>0</td>\n",
       "      <td>40</td>\n",
       "      <td>Cuba</td>\n",
       "      <td>&lt;=50K</td>\n",
       "    </tr>\n",
       "    <tr>\n",
       "      <th>...</th>\n",
       "      <td>...</td>\n",
       "      <td>...</td>\n",
       "      <td>...</td>\n",
       "      <td>...</td>\n",
       "      <td>...</td>\n",
       "      <td>...</td>\n",
       "      <td>...</td>\n",
       "      <td>...</td>\n",
       "      <td>...</td>\n",
       "      <td>...</td>\n",
       "      <td>...</td>\n",
       "      <td>...</td>\n",
       "      <td>...</td>\n",
       "      <td>...</td>\n",
       "    </tr>\n",
       "    <tr>\n",
       "      <th>30156</th>\n",
       "      <td>27</td>\n",
       "      <td>Private</td>\n",
       "      <td>Assoc-acdm</td>\n",
       "      <td>12</td>\n",
       "      <td>Married-civ-spouse</td>\n",
       "      <td>Tech-support</td>\n",
       "      <td>Wife</td>\n",
       "      <td>White</td>\n",
       "      <td>Female</td>\n",
       "      <td>0</td>\n",
       "      <td>0</td>\n",
       "      <td>38</td>\n",
       "      <td>United-States</td>\n",
       "      <td>&lt;=50K</td>\n",
       "    </tr>\n",
       "    <tr>\n",
       "      <th>30157</th>\n",
       "      <td>40</td>\n",
       "      <td>Private</td>\n",
       "      <td>HS-grad</td>\n",
       "      <td>9</td>\n",
       "      <td>Married-civ-spouse</td>\n",
       "      <td>Machine-op-inspct</td>\n",
       "      <td>Husband</td>\n",
       "      <td>White</td>\n",
       "      <td>Male</td>\n",
       "      <td>0</td>\n",
       "      <td>0</td>\n",
       "      <td>40</td>\n",
       "      <td>United-States</td>\n",
       "      <td>&gt;50K</td>\n",
       "    </tr>\n",
       "    <tr>\n",
       "      <th>30158</th>\n",
       "      <td>58</td>\n",
       "      <td>Private</td>\n",
       "      <td>HS-grad</td>\n",
       "      <td>9</td>\n",
       "      <td>Widowed</td>\n",
       "      <td>Adm-clerical</td>\n",
       "      <td>Unmarried</td>\n",
       "      <td>White</td>\n",
       "      <td>Female</td>\n",
       "      <td>0</td>\n",
       "      <td>0</td>\n",
       "      <td>40</td>\n",
       "      <td>United-States</td>\n",
       "      <td>&lt;=50K</td>\n",
       "    </tr>\n",
       "    <tr>\n",
       "      <th>30159</th>\n",
       "      <td>22</td>\n",
       "      <td>Private</td>\n",
       "      <td>HS-grad</td>\n",
       "      <td>9</td>\n",
       "      <td>Never-married</td>\n",
       "      <td>Adm-clerical</td>\n",
       "      <td>Own-child</td>\n",
       "      <td>White</td>\n",
       "      <td>Male</td>\n",
       "      <td>0</td>\n",
       "      <td>0</td>\n",
       "      <td>20</td>\n",
       "      <td>United-States</td>\n",
       "      <td>&lt;=50K</td>\n",
       "    </tr>\n",
       "    <tr>\n",
       "      <th>30160</th>\n",
       "      <td>52</td>\n",
       "      <td>Self-emp-inc</td>\n",
       "      <td>HS-grad</td>\n",
       "      <td>9</td>\n",
       "      <td>Married-civ-spouse</td>\n",
       "      <td>Exec-managerial</td>\n",
       "      <td>Wife</td>\n",
       "      <td>White</td>\n",
       "      <td>Female</td>\n",
       "      <td>15024</td>\n",
       "      <td>0</td>\n",
       "      <td>40</td>\n",
       "      <td>United-States</td>\n",
       "      <td>&gt;50K</td>\n",
       "    </tr>\n",
       "  </tbody>\n",
       "</table>\n",
       "<p>30161 rows × 14 columns</p>\n",
       "</div>"
      ],
      "text/plain": [
       "       age          workclass    education  educationno        maritalstatus  \\\n",
       "0       39          State-gov    Bachelors           13        Never-married   \n",
       "1       50   Self-emp-not-inc    Bachelors           13   Married-civ-spouse   \n",
       "2       38            Private      HS-grad            9             Divorced   \n",
       "3       53            Private         11th            7   Married-civ-spouse   \n",
       "4       28            Private    Bachelors           13   Married-civ-spouse   \n",
       "...    ...                ...          ...          ...                  ...   \n",
       "30156   27            Private   Assoc-acdm           12   Married-civ-spouse   \n",
       "30157   40            Private      HS-grad            9   Married-civ-spouse   \n",
       "30158   58            Private      HS-grad            9              Widowed   \n",
       "30159   22            Private      HS-grad            9        Never-married   \n",
       "30160   52       Self-emp-inc      HS-grad            9   Married-civ-spouse   \n",
       "\n",
       "               occupation    relationship    race      sex  capitalgain  \\\n",
       "0            Adm-clerical   Not-in-family   White     Male         2174   \n",
       "1         Exec-managerial         Husband   White     Male            0   \n",
       "2       Handlers-cleaners   Not-in-family   White     Male            0   \n",
       "3       Handlers-cleaners         Husband   Black     Male            0   \n",
       "4          Prof-specialty            Wife   Black   Female            0   \n",
       "...                   ...             ...     ...      ...          ...   \n",
       "30156        Tech-support            Wife   White   Female            0   \n",
       "30157   Machine-op-inspct         Husband   White     Male            0   \n",
       "30158        Adm-clerical       Unmarried   White   Female            0   \n",
       "30159        Adm-clerical       Own-child   White     Male            0   \n",
       "30160     Exec-managerial            Wife   White   Female        15024   \n",
       "\n",
       "       capitalloss  hoursperweek          native  Salary  \n",
       "0                0            40   United-States   <=50K  \n",
       "1                0            13   United-States   <=50K  \n",
       "2                0            40   United-States   <=50K  \n",
       "3                0            40   United-States   <=50K  \n",
       "4                0            40            Cuba   <=50K  \n",
       "...            ...           ...             ...     ...  \n",
       "30156            0            38   United-States   <=50K  \n",
       "30157            0            40   United-States    >50K  \n",
       "30158            0            40   United-States   <=50K  \n",
       "30159            0            20   United-States   <=50K  \n",
       "30160            0            40   United-States    >50K  \n",
       "\n",
       "[30161 rows x 14 columns]"
      ]
     },
     "execution_count": 2,
     "metadata": {},
     "output_type": "execute_result"
    }
   ],
   "source": [
    "salary = pd.read_csv(\"C:\\\\Users\\\\jhishna2022\\\\Downloads\\\\SalaryData_Train.csv\")\n",
    "salary"
   ]
  },
  {
   "cell_type": "code",
   "execution_count": 3,
   "id": "164e571a",
   "metadata": {},
   "outputs": [
    {
     "data": {
      "text/html": [
       "<div>\n",
       "<style scoped>\n",
       "    .dataframe tbody tr th:only-of-type {\n",
       "        vertical-align: middle;\n",
       "    }\n",
       "\n",
       "    .dataframe tbody tr th {\n",
       "        vertical-align: top;\n",
       "    }\n",
       "\n",
       "    .dataframe thead th {\n",
       "        text-align: right;\n",
       "    }\n",
       "</style>\n",
       "<table border=\"1\" class=\"dataframe\">\n",
       "  <thead>\n",
       "    <tr style=\"text-align: right;\">\n",
       "      <th></th>\n",
       "      <th>age</th>\n",
       "      <th>workclass</th>\n",
       "      <th>education</th>\n",
       "      <th>educationno</th>\n",
       "      <th>maritalstatus</th>\n",
       "      <th>occupation</th>\n",
       "      <th>relationship</th>\n",
       "      <th>race</th>\n",
       "      <th>sex</th>\n",
       "      <th>capitalgain</th>\n",
       "      <th>capitalloss</th>\n",
       "      <th>hoursperweek</th>\n",
       "      <th>native</th>\n",
       "      <th>Salary</th>\n",
       "    </tr>\n",
       "  </thead>\n",
       "  <tbody>\n",
       "    <tr>\n",
       "      <th>0</th>\n",
       "      <td>25</td>\n",
       "      <td>Private</td>\n",
       "      <td>11th</td>\n",
       "      <td>7</td>\n",
       "      <td>Never-married</td>\n",
       "      <td>Machine-op-inspct</td>\n",
       "      <td>Own-child</td>\n",
       "      <td>Black</td>\n",
       "      <td>Male</td>\n",
       "      <td>0</td>\n",
       "      <td>0</td>\n",
       "      <td>40</td>\n",
       "      <td>United-States</td>\n",
       "      <td>&lt;=50K</td>\n",
       "    </tr>\n",
       "    <tr>\n",
       "      <th>1</th>\n",
       "      <td>38</td>\n",
       "      <td>Private</td>\n",
       "      <td>HS-grad</td>\n",
       "      <td>9</td>\n",
       "      <td>Married-civ-spouse</td>\n",
       "      <td>Farming-fishing</td>\n",
       "      <td>Husband</td>\n",
       "      <td>White</td>\n",
       "      <td>Male</td>\n",
       "      <td>0</td>\n",
       "      <td>0</td>\n",
       "      <td>50</td>\n",
       "      <td>United-States</td>\n",
       "      <td>&lt;=50K</td>\n",
       "    </tr>\n",
       "    <tr>\n",
       "      <th>2</th>\n",
       "      <td>28</td>\n",
       "      <td>Local-gov</td>\n",
       "      <td>Assoc-acdm</td>\n",
       "      <td>12</td>\n",
       "      <td>Married-civ-spouse</td>\n",
       "      <td>Protective-serv</td>\n",
       "      <td>Husband</td>\n",
       "      <td>White</td>\n",
       "      <td>Male</td>\n",
       "      <td>0</td>\n",
       "      <td>0</td>\n",
       "      <td>40</td>\n",
       "      <td>United-States</td>\n",
       "      <td>&gt;50K</td>\n",
       "    </tr>\n",
       "    <tr>\n",
       "      <th>3</th>\n",
       "      <td>44</td>\n",
       "      <td>Private</td>\n",
       "      <td>Some-college</td>\n",
       "      <td>10</td>\n",
       "      <td>Married-civ-spouse</td>\n",
       "      <td>Machine-op-inspct</td>\n",
       "      <td>Husband</td>\n",
       "      <td>Black</td>\n",
       "      <td>Male</td>\n",
       "      <td>7688</td>\n",
       "      <td>0</td>\n",
       "      <td>40</td>\n",
       "      <td>United-States</td>\n",
       "      <td>&gt;50K</td>\n",
       "    </tr>\n",
       "    <tr>\n",
       "      <th>4</th>\n",
       "      <td>34</td>\n",
       "      <td>Private</td>\n",
       "      <td>10th</td>\n",
       "      <td>6</td>\n",
       "      <td>Never-married</td>\n",
       "      <td>Other-service</td>\n",
       "      <td>Not-in-family</td>\n",
       "      <td>White</td>\n",
       "      <td>Male</td>\n",
       "      <td>0</td>\n",
       "      <td>0</td>\n",
       "      <td>30</td>\n",
       "      <td>United-States</td>\n",
       "      <td>&lt;=50K</td>\n",
       "    </tr>\n",
       "  </tbody>\n",
       "</table>\n",
       "</div>"
      ],
      "text/plain": [
       "   age   workclass      education  educationno        maritalstatus  \\\n",
       "0   25     Private           11th            7        Never-married   \n",
       "1   38     Private        HS-grad            9   Married-civ-spouse   \n",
       "2   28   Local-gov     Assoc-acdm           12   Married-civ-spouse   \n",
       "3   44     Private   Some-college           10   Married-civ-spouse   \n",
       "4   34     Private           10th            6        Never-married   \n",
       "\n",
       "           occupation    relationship    race    sex  capitalgain  \\\n",
       "0   Machine-op-inspct       Own-child   Black   Male            0   \n",
       "1     Farming-fishing         Husband   White   Male            0   \n",
       "2     Protective-serv         Husband   White   Male            0   \n",
       "3   Machine-op-inspct         Husband   Black   Male         7688   \n",
       "4       Other-service   Not-in-family   White   Male            0   \n",
       "\n",
       "   capitalloss  hoursperweek          native  Salary  \n",
       "0            0            40   United-States   <=50K  \n",
       "1            0            50   United-States   <=50K  \n",
       "2            0            40   United-States    >50K  \n",
       "3            0            40   United-States    >50K  \n",
       "4            0            30   United-States   <=50K  "
      ]
     },
     "execution_count": 3,
     "metadata": {},
     "output_type": "execute_result"
    }
   ],
   "source": [
    "salary_test = pd.read_csv(\"C:\\\\Users\\\\jhishna2022\\\\Downloads\\\\SalaryData_Test.csv\")\n",
    "salary_test.head()"
   ]
  },
  {
   "cell_type": "markdown",
   "id": "d57c4fff",
   "metadata": {},
   "source": [
    "## EDA"
   ]
  },
  {
   "cell_type": "code",
   "execution_count": 5,
   "id": "22dc8eb8",
   "metadata": {},
   "outputs": [
    {
     "name": "stdout",
     "output_type": "stream",
     "text": [
      "<class 'pandas.core.frame.DataFrame'>\n",
      "RangeIndex: 30161 entries, 0 to 30160\n",
      "Data columns (total 14 columns):\n",
      " #   Column         Non-Null Count  Dtype \n",
      "---  ------         --------------  ----- \n",
      " 0   age            30161 non-null  int64 \n",
      " 1   workclass      30161 non-null  object\n",
      " 2   education      30161 non-null  object\n",
      " 3   educationno    30161 non-null  int64 \n",
      " 4   maritalstatus  30161 non-null  object\n",
      " 5   occupation     30161 non-null  object\n",
      " 6   relationship   30161 non-null  object\n",
      " 7   race           30161 non-null  object\n",
      " 8   sex            30161 non-null  object\n",
      " 9   capitalgain    30161 non-null  int64 \n",
      " 10  capitalloss    30161 non-null  int64 \n",
      " 11  hoursperweek   30161 non-null  int64 \n",
      " 12  native         30161 non-null  object\n",
      " 13  Salary         30161 non-null  object\n",
      "dtypes: int64(5), object(9)\n",
      "memory usage: 3.2+ MB\n"
     ]
    }
   ],
   "source": [
    "salary.info()"
   ]
  },
  {
   "cell_type": "code",
   "execution_count": 6,
   "id": "3898df63",
   "metadata": {},
   "outputs": [
    {
     "data": {
      "text/plain": [
       "age              0\n",
       "workclass        0\n",
       "education        0\n",
       "educationno      0\n",
       "maritalstatus    0\n",
       "occupation       0\n",
       "relationship     0\n",
       "race             0\n",
       "sex              0\n",
       "capitalgain      0\n",
       "capitalloss      0\n",
       "hoursperweek     0\n",
       "native           0\n",
       "Salary           0\n",
       "dtype: int64"
      ]
     },
     "execution_count": 6,
     "metadata": {},
     "output_type": "execute_result"
    }
   ],
   "source": [
    "salary.isnull().sum()"
   ]
  },
  {
   "cell_type": "code",
   "execution_count": 7,
   "id": "03925d57",
   "metadata": {},
   "outputs": [
    {
     "data": {
      "text/html": [
       "<div>\n",
       "<style scoped>\n",
       "    .dataframe tbody tr th:only-of-type {\n",
       "        vertical-align: middle;\n",
       "    }\n",
       "\n",
       "    .dataframe tbody tr th {\n",
       "        vertical-align: top;\n",
       "    }\n",
       "\n",
       "    .dataframe thead th {\n",
       "        text-align: right;\n",
       "    }\n",
       "</style>\n",
       "<table border=\"1\" class=\"dataframe\">\n",
       "  <thead>\n",
       "    <tr style=\"text-align: right;\">\n",
       "      <th></th>\n",
       "      <th>age</th>\n",
       "      <th>educationno</th>\n",
       "      <th>capitalgain</th>\n",
       "      <th>capitalloss</th>\n",
       "      <th>hoursperweek</th>\n",
       "    </tr>\n",
       "  </thead>\n",
       "  <tbody>\n",
       "    <tr>\n",
       "      <th>count</th>\n",
       "      <td>30161.000000</td>\n",
       "      <td>30161.000000</td>\n",
       "      <td>30161.000000</td>\n",
       "      <td>30161.000000</td>\n",
       "      <td>30161.000000</td>\n",
       "    </tr>\n",
       "    <tr>\n",
       "      <th>mean</th>\n",
       "      <td>38.438115</td>\n",
       "      <td>10.121316</td>\n",
       "      <td>1092.044064</td>\n",
       "      <td>88.302311</td>\n",
       "      <td>40.931269</td>\n",
       "    </tr>\n",
       "    <tr>\n",
       "      <th>std</th>\n",
       "      <td>13.134830</td>\n",
       "      <td>2.550037</td>\n",
       "      <td>7406.466611</td>\n",
       "      <td>404.121321</td>\n",
       "      <td>11.980182</td>\n",
       "    </tr>\n",
       "    <tr>\n",
       "      <th>min</th>\n",
       "      <td>17.000000</td>\n",
       "      <td>1.000000</td>\n",
       "      <td>0.000000</td>\n",
       "      <td>0.000000</td>\n",
       "      <td>1.000000</td>\n",
       "    </tr>\n",
       "    <tr>\n",
       "      <th>25%</th>\n",
       "      <td>28.000000</td>\n",
       "      <td>9.000000</td>\n",
       "      <td>0.000000</td>\n",
       "      <td>0.000000</td>\n",
       "      <td>40.000000</td>\n",
       "    </tr>\n",
       "    <tr>\n",
       "      <th>50%</th>\n",
       "      <td>37.000000</td>\n",
       "      <td>10.000000</td>\n",
       "      <td>0.000000</td>\n",
       "      <td>0.000000</td>\n",
       "      <td>40.000000</td>\n",
       "    </tr>\n",
       "    <tr>\n",
       "      <th>75%</th>\n",
       "      <td>47.000000</td>\n",
       "      <td>13.000000</td>\n",
       "      <td>0.000000</td>\n",
       "      <td>0.000000</td>\n",
       "      <td>45.000000</td>\n",
       "    </tr>\n",
       "    <tr>\n",
       "      <th>max</th>\n",
       "      <td>90.000000</td>\n",
       "      <td>16.000000</td>\n",
       "      <td>99999.000000</td>\n",
       "      <td>4356.000000</td>\n",
       "      <td>99.000000</td>\n",
       "    </tr>\n",
       "  </tbody>\n",
       "</table>\n",
       "</div>"
      ],
      "text/plain": [
       "                age   educationno   capitalgain   capitalloss  hoursperweek\n",
       "count  30161.000000  30161.000000  30161.000000  30161.000000  30161.000000\n",
       "mean      38.438115     10.121316   1092.044064     88.302311     40.931269\n",
       "std       13.134830      2.550037   7406.466611    404.121321     11.980182\n",
       "min       17.000000      1.000000      0.000000      0.000000      1.000000\n",
       "25%       28.000000      9.000000      0.000000      0.000000     40.000000\n",
       "50%       37.000000     10.000000      0.000000      0.000000     40.000000\n",
       "75%       47.000000     13.000000      0.000000      0.000000     45.000000\n",
       "max       90.000000     16.000000  99999.000000   4356.000000     99.000000"
      ]
     },
     "execution_count": 7,
     "metadata": {},
     "output_type": "execute_result"
    }
   ],
   "source": [
    "salary.describe()"
   ]
  },
  {
   "cell_type": "code",
   "execution_count": 8,
   "id": "dda3eab2",
   "metadata": {},
   "outputs": [
    {
     "data": {
      "text/html": [
       "<div>\n",
       "<style scoped>\n",
       "    .dataframe tbody tr th:only-of-type {\n",
       "        vertical-align: middle;\n",
       "    }\n",
       "\n",
       "    .dataframe tbody tr th {\n",
       "        vertical-align: top;\n",
       "    }\n",
       "\n",
       "    .dataframe thead th {\n",
       "        text-align: right;\n",
       "    }\n",
       "</style>\n",
       "<table border=\"1\" class=\"dataframe\">\n",
       "  <thead>\n",
       "    <tr style=\"text-align: right;\">\n",
       "      <th></th>\n",
       "      <th>age</th>\n",
       "      <th>educationno</th>\n",
       "      <th>capitalgain</th>\n",
       "      <th>capitalloss</th>\n",
       "      <th>hoursperweek</th>\n",
       "    </tr>\n",
       "  </thead>\n",
       "  <tbody>\n",
       "    <tr>\n",
       "      <th>age</th>\n",
       "      <td>1.000000</td>\n",
       "      <td>0.043525</td>\n",
       "      <td>0.080152</td>\n",
       "      <td>0.060278</td>\n",
       "      <td>0.101598</td>\n",
       "    </tr>\n",
       "    <tr>\n",
       "      <th>educationno</th>\n",
       "      <td>0.043525</td>\n",
       "      <td>1.000000</td>\n",
       "      <td>0.124416</td>\n",
       "      <td>0.079691</td>\n",
       "      <td>0.152522</td>\n",
       "    </tr>\n",
       "    <tr>\n",
       "      <th>capitalgain</th>\n",
       "      <td>0.080152</td>\n",
       "      <td>0.124416</td>\n",
       "      <td>1.000000</td>\n",
       "      <td>-0.032218</td>\n",
       "      <td>0.080431</td>\n",
       "    </tr>\n",
       "    <tr>\n",
       "      <th>capitalloss</th>\n",
       "      <td>0.060278</td>\n",
       "      <td>0.079691</td>\n",
       "      <td>-0.032218</td>\n",
       "      <td>1.000000</td>\n",
       "      <td>0.052454</td>\n",
       "    </tr>\n",
       "    <tr>\n",
       "      <th>hoursperweek</th>\n",
       "      <td>0.101598</td>\n",
       "      <td>0.152522</td>\n",
       "      <td>0.080431</td>\n",
       "      <td>0.052454</td>\n",
       "      <td>1.000000</td>\n",
       "    </tr>\n",
       "  </tbody>\n",
       "</table>\n",
       "</div>"
      ],
      "text/plain": [
       "                   age  educationno  capitalgain  capitalloss  hoursperweek\n",
       "age           1.000000     0.043525     0.080152     0.060278      0.101598\n",
       "educationno   0.043525     1.000000     0.124416     0.079691      0.152522\n",
       "capitalgain   0.080152     0.124416     1.000000    -0.032218      0.080431\n",
       "capitalloss   0.060278     0.079691    -0.032218     1.000000      0.052454\n",
       "hoursperweek  0.101598     0.152522     0.080431     0.052454      1.000000"
      ]
     },
     "execution_count": 8,
     "metadata": {},
     "output_type": "execute_result"
    }
   ],
   "source": [
    "salary.corr()"
   ]
  },
  {
   "cell_type": "markdown",
   "id": "0e56616f",
   "metadata": {},
   "source": [
    "## Data Visualizations"
   ]
  },
  {
   "cell_type": "code",
   "execution_count": 9,
   "id": "ec5aab57",
   "metadata": {},
   "outputs": [
    {
     "name": "stdout",
     "output_type": "stream",
     "text": [
      "[0.22264855 0.05039902 0.0356485  0.09133487 0.07510431 0.09101244\n",
      " 0.10250726 0.01886366 0.02747042 0.12452753 0.0384751  0.12200834]\n"
     ]
    },
    {
     "data": {
      "image/png": "[encoded data removed]",
      "text/plain": [
       "<Figure size 432x288 with 1 Axes>"
      ]
     },
     "metadata": {
      "needs_background": "light"
     },
     "output_type": "display_data"
    }
   ],
   "source": [
    "import pandas as pd\n",
    "import numpy as np\n",
    "#data = pd.read_csv(\"C://Users//Intel//Documents//mobile_price_train.csv\")\n",
    "X = s_train.iloc[:,0:12]  #independent variable columns\n",
    "Y = s_train.iloc[:,-1]    #target variable column (price range)\n",
    "from sklearn.ensemble import ExtraTreesClassifier\n",
    "import matplotlib.pyplot as plt\n",
    "model = ExtraTreesClassifier()\n",
    "model.fit(X,Y)\n",
    "print(model.feature_importances_) \n",
    " \n",
    "#plot the graph of feature importances \n",
    "feat_importances = pd.Series(model.feature_importances_, index=X.columns)\n",
    "feat_importances.nlargest(17).plot(kind='barh')\n",
    "plt.show()"
   ]
  },
  {
   "cell_type": "code",
   "execution_count": 13,
   "id": "72295e90",
   "metadata": {},
   "outputs": [],
   "source": [
    "import seaborn as sns\n",
    "import matplotlib.pyplot as plt\n",
    "%matplotlib inline"
   ]
  },
  {
   "cell_type": "code",
   "execution_count": 12,
   "id": "733dc919",
   "metadata": {},
   "outputs": [
    {
     "data": {
      "text/plain": [
       "<seaborn.axisgrid.PairGrid at 0x186bb6c9970>"
      ]
     },
     "execution_count": 12,
     "metadata": {},
     "output_type": "execute_result"
    },
    {
     "data": {
      "image/png": "[encoded data removed]",
      "text/plain": [
       "<Figure size 900x900 with 30 Axes>"
      ]
     },
     "metadata": {
      "needs_background": "light"
     },
     "output_type": "display_data"
    }
   ],
   "source": [
    "sns.pairplot(salary)"
   ]
  },
  {
   "cell_type": "code",
   "execution_count": 5,
   "id": "68bc459f",
   "metadata": {},
   "outputs": [],
   "source": [
    "import warnings\n",
    "warnings.filterwarnings('ignore')"
   ]
  },
  {
   "cell_type": "code",
   "execution_count": 15,
   "id": "e7877a0c",
   "metadata": {},
   "outputs": [
    {
     "data": {
      "text/plain": [
       "<AxesSubplot:>"
      ]
     },
     "execution_count": 15,
     "metadata": {},
     "output_type": "execute_result"
    },
    {
     "data": {
      "image/png": "[encoded data removed]",
      "text/plain": [
       "<Figure size 1800x1440 with 2 Axes>"
      ]
     },
     "metadata": {
      "needs_background": "light"
     },
     "output_type": "display_data"
    }
   ],
   "source": [
    "plt.figure(figsize=(25,20))\n",
    "sns.heatmap(salary.corr(),annot=True)"
   ]
  },
  {
   "cell_type": "code",
   "execution_count": 14,
   "id": "24df1227",
   "metadata": {},
   "outputs": [
    {
     "data": {
      "text/plain": [
       "<AxesSubplot:xlabel='age', ylabel='Density'>"
      ]
     },
     "execution_count": 14,
     "metadata": {},
     "output_type": "execute_result"
    },
    {
     "data": {
      "image/png": "[encoded data removed]",
      "text/plain": [
       "<Figure size 432x288 with 1 Axes>"
      ]
     },
     "metadata": {
      "needs_background": "light"
     },
     "output_type": "display_data"
    }
   ],
   "source": [
    "sns.distplot(salary['age'])"
   ]
  },
  {
   "cell_type": "code",
   "execution_count": 4,
   "id": "53f9e31e",
   "metadata": {},
   "outputs": [
    {
     "name": "stderr",
     "output_type": "stream",
     "text": [
      "c:\\users\\jhishna2022\\appdata\\local\\programs\\python\\python38\\lib\\site-packages\\seaborn\\_decorators.py:36: FutureWarning: Pass the following variable as a keyword arg: x. From version 0.12, the only valid positional argument will be `data`, and passing other arguments without an explicit keyword will result in an error or misinterpretation.\n",
      "  warnings.warn(\n"
     ]
    },
    {
     "data": {
      "text/plain": [
       "<AxesSubplot:xlabel='workclass', ylabel='count'>"
      ]
     },
     "execution_count": 4,
     "metadata": {},
     "output_type": "execute_result"
    },
    {
     "data": {
      "image/png": "[encoded data removed]",
      "text/plain": [
       "<Figure size 864x360 with 1 Axes>"
      ]
     },
     "metadata": {
      "needs_background": "light"
     },
     "output_type": "display_data"
    }
   ],
   "source": [
    "import matplotlib.pyplot as plt\n",
    "import seaborn as sns\n",
    "plt.figure(figsize=(12,5))\n",
    "sns.countplot(salary['workclass'])"
   ]
  },
  {
   "cell_type": "code",
   "execution_count": 8,
   "id": "ff549b63",
   "metadata": {},
   "outputs": [
    {
     "data": {
      "text/plain": [
       "<AxesSubplot:xlabel='education', ylabel='count'>"
      ]
     },
     "execution_count": 8,
     "metadata": {},
     "output_type": "execute_result"
    },
    {
     "data": {
      "image/png": "[encoded data removed]",
      "text/plain": [
       "<Figure size 1296x360 with 1 Axes>"
      ]
     },
     "metadata": {
      "needs_background": "light"
     },
     "output_type": "display_data"
    }
   ],
   "source": [
    "plt.figure(figsize=(18,5))\n",
    "sns.countplot(salary['education'])"
   ]
  },
  {
   "cell_type": "code",
   "execution_count": 17,
   "id": "636ee855",
   "metadata": {},
   "outputs": [
    {
     "data": {
      "text/plain": [
       "<AxesSubplot:xlabel='educationno', ylabel='count'>"
      ]
     },
     "execution_count": 17,
     "metadata": {},
     "output_type": "execute_result"
    },
    {
     "data": {
      "image/png": "[encoded data removed]",
      "text/plain": [
       "<Figure size 432x288 with 1 Axes>"
      ]
     },
     "metadata": {
      "needs_background": "light"
     },
     "output_type": "display_data"
    }
   ],
   "source": [
    "sns.countplot(salary['educationno'])"
   ]
  },
  {
   "cell_type": "code",
   "execution_count": 9,
   "id": "cc531196",
   "metadata": {},
   "outputs": [
    {
     "data": {
      "text/plain": [
       "<AxesSubplot:xlabel='maritalstatus', ylabel='count'>"
      ]
     },
     "execution_count": 9,
     "metadata": {},
     "output_type": "execute_result"
    },
    {
     "data": {
      "image/png": "[encoded data removed]",
      "text/plain": [
       "<Figure size 864x360 with 1 Axes>"
      ]
     },
     "metadata": {
      "needs_background": "light"
     },
     "output_type": "display_data"
    }
   ],
   "source": [
    "plt.figure(figsize=(12,5))\n",
    "sns.countplot(salary['maritalstatus'])"
   ]
  },
  {
   "cell_type": "code",
   "execution_count": 12,
   "id": "44e8b57a",
   "metadata": {},
   "outputs": [
    {
     "data": {
      "text/plain": [
       "<AxesSubplot:xlabel='occupation', ylabel='count'>"
      ]
     },
     "execution_count": 12,
     "metadata": {},
     "output_type": "execute_result"
    },
    {
     "data": {
      "image/png": "[encoded data removed]",
      "text/plain": [
       "<Figure size 1584x360 with 1 Axes>"
      ]
     },
     "metadata": {
      "needs_background": "light"
     },
     "output_type": "display_data"
    }
   ],
   "source": [
    "plt.figure(figsize=(22,5))\n",
    "sns.countplot(salary['occupation'])"
   ]
  },
  {
   "cell_type": "code",
   "execution_count": 13,
   "id": "a276c91f",
   "metadata": {},
   "outputs": [
    {
     "data": {
      "text/plain": [
       "<AxesSubplot:xlabel='relationship', ylabel='count'>"
      ]
     },
     "execution_count": 13,
     "metadata": {},
     "output_type": "execute_result"
    },
    {
     "data": {
      "image/png": "[encoded data removed]",
      "text/plain": [
       "<Figure size 864x360 with 1 Axes>"
      ]
     },
     "metadata": {
      "needs_background": "light"
     },
     "output_type": "display_data"
    }
   ],
   "source": [
    "plt.figure(figsize=(12,5))\n",
    "sns.countplot(salary['relationship'])"
   ]
  },
  {
   "cell_type": "code",
   "execution_count": 14,
   "id": "c3c4e3fc",
   "metadata": {},
   "outputs": [
    {
     "data": {
      "text/plain": [
       "<AxesSubplot:xlabel='race', ylabel='count'>"
      ]
     },
     "execution_count": 14,
     "metadata": {},
     "output_type": "execute_result"
    },
    {
     "data": {
      "image/png": "[encoded data removed]",
      "text/plain": [
       "<Figure size 864x360 with 1 Axes>"
      ]
     },
     "metadata": {
      "needs_background": "light"
     },
     "output_type": "display_data"
    }
   ],
   "source": [
    "plt.figure(figsize=(12,5))\n",
    "sns.countplot(salary['race'])"
   ]
  },
  {
   "cell_type": "code",
   "execution_count": 22,
   "id": "37a62bcb",
   "metadata": {},
   "outputs": [
    {
     "data": {
      "text/plain": [
       "<AxesSubplot:xlabel='sex', ylabel='count'>"
      ]
     },
     "execution_count": 22,
     "metadata": {},
     "output_type": "execute_result"
    },
    {
     "data": {
      "image/png": "[encoded data removed]",
      "text/plain": [
       "<Figure size 432x288 with 1 Axes>"
      ]
     },
     "metadata": {
      "needs_background": "light"
     },
     "output_type": "display_data"
    }
   ],
   "source": [
    "sns.countplot(salary['sex'])"
   ]
  },
  {
   "cell_type": "code",
   "execution_count": 15,
   "id": "ef84265f",
   "metadata": {},
   "outputs": [
    {
     "data": {
      "text/plain": [
       "<AxesSubplot:xlabel='occupation', ylabel='count'>"
      ]
     },
     "execution_count": 15,
     "metadata": {},
     "output_type": "execute_result"
    },
    {
     "data": {
      "image/png": "[encoded data removed]",
      "text/plain": [
       "<Figure size 1584x360 with 1 Axes>"
      ]
     },
     "metadata": {
      "needs_background": "light"
     },
     "output_type": "display_data"
    }
   ],
   "source": [
    "plt.figure(figsize=(22,5))\n",
    "sns.countplot(salary['occupation'])"
   ]
  },
  {
   "cell_type": "code",
   "execution_count": 26,
   "id": "8ee82c3b",
   "metadata": {},
   "outputs": [
    {
     "data": {
      "text/plain": [
       "<AxesSubplot:xlabel='capitalloss', ylabel='Density'>"
      ]
     },
     "execution_count": 26,
     "metadata": {},
     "output_type": "execute_result"
    },
    {
     "data": {
      "image/png": "[encoded data removed]",
      "text/plain": [
       "<Figure size 432x288 with 1 Axes>"
      ]
     },
     "metadata": {
      "needs_background": "light"
     },
     "output_type": "display_data"
    }
   ],
   "source": [
    "sns.distplot(salary['capitalloss'])"
   ]
  },
  {
   "cell_type": "code",
   "execution_count": 29,
   "id": "edf00fea",
   "metadata": {},
   "outputs": [
    {
     "data": {
      "text/plain": [
       "<AxesSubplot:xlabel='hoursperweek', ylabel='Density'>"
      ]
     },
     "execution_count": 29,
     "metadata": {},
     "output_type": "execute_result"
    },
    {
     "data": {
      "image/png": "[encoded data removed]",
      "text/plain": [
       "<Figure size 432x288 with 1 Axes>"
      ]
     },
     "metadata": {
      "needs_background": "light"
     },
     "output_type": "display_data"
    }
   ],
   "source": [
    "sns.distplot(salary['hoursperweek'])"
   ]
  },
  {
   "cell_type": "code",
   "execution_count": 17,
   "id": "fe1250ac",
   "metadata": {},
   "outputs": [],
   "source": [
    "X_train = pd.get_dummies(salary.iloc[:,:-1])\n",
    "Y_train = salary.iloc[:,-1]\n",
    "X_test = pd.get_dummies(salary_test.iloc[:,:-1])\n",
    "Y_test = salary_test.iloc[:,-1]"
   ]
  },
  {
   "cell_type": "code",
   "execution_count": 18,
   "id": "dae3d6d3",
   "metadata": {},
   "outputs": [
    {
     "data": {
      "text/html": [
       "<div>\n",
       "<style scoped>\n",
       "    .dataframe tbody tr th:only-of-type {\n",
       "        vertical-align: middle;\n",
       "    }\n",
       "\n",
       "    .dataframe tbody tr th {\n",
       "        vertical-align: top;\n",
       "    }\n",
       "\n",
       "    .dataframe thead th {\n",
       "        text-align: right;\n",
       "    }\n",
       "</style>\n",
       "<table border=\"1\" class=\"dataframe\">\n",
       "  <thead>\n",
       "    <tr style=\"text-align: right;\">\n",
       "      <th></th>\n",
       "      <th>age</th>\n",
       "      <th>educationno</th>\n",
       "      <th>capitalgain</th>\n",
       "      <th>capitalloss</th>\n",
       "      <th>hoursperweek</th>\n",
       "      <th>workclass_ Federal-gov</th>\n",
       "      <th>workclass_ Local-gov</th>\n",
       "      <th>workclass_ Private</th>\n",
       "      <th>workclass_ Self-emp-inc</th>\n",
       "      <th>workclass_ Self-emp-not-inc</th>\n",
       "      <th>...</th>\n",
       "      <th>native_ Portugal</th>\n",
       "      <th>native_ Puerto-Rico</th>\n",
       "      <th>native_ Scotland</th>\n",
       "      <th>native_ South</th>\n",
       "      <th>native_ Taiwan</th>\n",
       "      <th>native_ Thailand</th>\n",
       "      <th>native_ Trinadad&amp;Tobago</th>\n",
       "      <th>native_ United-States</th>\n",
       "      <th>native_ Vietnam</th>\n",
       "      <th>native_ Yugoslavia</th>\n",
       "    </tr>\n",
       "  </thead>\n",
       "  <tbody>\n",
       "    <tr>\n",
       "      <th>0</th>\n",
       "      <td>39</td>\n",
       "      <td>13</td>\n",
       "      <td>2174</td>\n",
       "      <td>0</td>\n",
       "      <td>40</td>\n",
       "      <td>0</td>\n",
       "      <td>0</td>\n",
       "      <td>0</td>\n",
       "      <td>0</td>\n",
       "      <td>0</td>\n",
       "      <td>...</td>\n",
       "      <td>0</td>\n",
       "      <td>0</td>\n",
       "      <td>0</td>\n",
       "      <td>0</td>\n",
       "      <td>0</td>\n",
       "      <td>0</td>\n",
       "      <td>0</td>\n",
       "      <td>1</td>\n",
       "      <td>0</td>\n",
       "      <td>0</td>\n",
       "    </tr>\n",
       "    <tr>\n",
       "      <th>1</th>\n",
       "      <td>50</td>\n",
       "      <td>13</td>\n",
       "      <td>0</td>\n",
       "      <td>0</td>\n",
       "      <td>13</td>\n",
       "      <td>0</td>\n",
       "      <td>0</td>\n",
       "      <td>0</td>\n",
       "      <td>0</td>\n",
       "      <td>1</td>\n",
       "      <td>...</td>\n",
       "      <td>0</td>\n",
       "      <td>0</td>\n",
       "      <td>0</td>\n",
       "      <td>0</td>\n",
       "      <td>0</td>\n",
       "      <td>0</td>\n",
       "      <td>0</td>\n",
       "      <td>1</td>\n",
       "      <td>0</td>\n",
       "      <td>0</td>\n",
       "    </tr>\n",
       "    <tr>\n",
       "      <th>2</th>\n",
       "      <td>38</td>\n",
       "      <td>9</td>\n",
       "      <td>0</td>\n",
       "      <td>0</td>\n",
       "      <td>40</td>\n",
       "      <td>0</td>\n",
       "      <td>0</td>\n",
       "      <td>1</td>\n",
       "      <td>0</td>\n",
       "      <td>0</td>\n",
       "      <td>...</td>\n",
       "      <td>0</td>\n",
       "      <td>0</td>\n",
       "      <td>0</td>\n",
       "      <td>0</td>\n",
       "      <td>0</td>\n",
       "      <td>0</td>\n",
       "      <td>0</td>\n",
       "      <td>1</td>\n",
       "      <td>0</td>\n",
       "      <td>0</td>\n",
       "    </tr>\n",
       "    <tr>\n",
       "      <th>3</th>\n",
       "      <td>53</td>\n",
       "      <td>7</td>\n",
       "      <td>0</td>\n",
       "      <td>0</td>\n",
       "      <td>40</td>\n",
       "      <td>0</td>\n",
       "      <td>0</td>\n",
       "      <td>1</td>\n",
       "      <td>0</td>\n",
       "      <td>0</td>\n",
       "      <td>...</td>\n",
       "      <td>0</td>\n",
       "      <td>0</td>\n",
       "      <td>0</td>\n",
       "      <td>0</td>\n",
       "      <td>0</td>\n",
       "      <td>0</td>\n",
       "      <td>0</td>\n",
       "      <td>1</td>\n",
       "      <td>0</td>\n",
       "      <td>0</td>\n",
       "    </tr>\n",
       "    <tr>\n",
       "      <th>4</th>\n",
       "      <td>28</td>\n",
       "      <td>13</td>\n",
       "      <td>0</td>\n",
       "      <td>0</td>\n",
       "      <td>40</td>\n",
       "      <td>0</td>\n",
       "      <td>0</td>\n",
       "      <td>1</td>\n",
       "      <td>0</td>\n",
       "      <td>0</td>\n",
       "      <td>...</td>\n",
       "      <td>0</td>\n",
       "      <td>0</td>\n",
       "      <td>0</td>\n",
       "      <td>0</td>\n",
       "      <td>0</td>\n",
       "      <td>0</td>\n",
       "      <td>0</td>\n",
       "      <td>0</td>\n",
       "      <td>0</td>\n",
       "      <td>0</td>\n",
       "    </tr>\n",
       "    <tr>\n",
       "      <th>...</th>\n",
       "      <td>...</td>\n",
       "      <td>...</td>\n",
       "      <td>...</td>\n",
       "      <td>...</td>\n",
       "      <td>...</td>\n",
       "      <td>...</td>\n",
       "      <td>...</td>\n",
       "      <td>...</td>\n",
       "      <td>...</td>\n",
       "      <td>...</td>\n",
       "      <td>...</td>\n",
       "      <td>...</td>\n",
       "      <td>...</td>\n",
       "      <td>...</td>\n",
       "      <td>...</td>\n",
       "      <td>...</td>\n",
       "      <td>...</td>\n",
       "      <td>...</td>\n",
       "      <td>...</td>\n",
       "      <td>...</td>\n",
       "      <td>...</td>\n",
       "    </tr>\n",
       "    <tr>\n",
       "      <th>30156</th>\n",
       "      <td>27</td>\n",
       "      <td>12</td>\n",
       "      <td>0</td>\n",
       "      <td>0</td>\n",
       "      <td>38</td>\n",
       "      <td>0</td>\n",
       "      <td>0</td>\n",
       "      <td>1</td>\n",
       "      <td>0</td>\n",
       "      <td>0</td>\n",
       "      <td>...</td>\n",
       "      <td>0</td>\n",
       "      <td>0</td>\n",
       "      <td>0</td>\n",
       "      <td>0</td>\n",
       "      <td>0</td>\n",
       "      <td>0</td>\n",
       "      <td>0</td>\n",
       "      <td>1</td>\n",
       "      <td>0</td>\n",
       "      <td>0</td>\n",
       "    </tr>\n",
       "    <tr>\n",
       "      <th>30157</th>\n",
       "      <td>40</td>\n",
       "      <td>9</td>\n",
       "      <td>0</td>\n",
       "      <td>0</td>\n",
       "      <td>40</td>\n",
       "      <td>0</td>\n",
       "      <td>0</td>\n",
       "      <td>1</td>\n",
       "      <td>0</td>\n",
       "      <td>0</td>\n",
       "      <td>...</td>\n",
       "      <td>0</td>\n",
       "      <td>0</td>\n",
       "      <td>0</td>\n",
       "      <td>0</td>\n",
       "      <td>0</td>\n",
       "      <td>0</td>\n",
       "      <td>0</td>\n",
       "      <td>1</td>\n",
       "      <td>0</td>\n",
       "      <td>0</td>\n",
       "    </tr>\n",
       "    <tr>\n",
       "      <th>30158</th>\n",
       "      <td>58</td>\n",
       "      <td>9</td>\n",
       "      <td>0</td>\n",
       "      <td>0</td>\n",
       "      <td>40</td>\n",
       "      <td>0</td>\n",
       "      <td>0</td>\n",
       "      <td>1</td>\n",
       "      <td>0</td>\n",
       "      <td>0</td>\n",
       "      <td>...</td>\n",
       "      <td>0</td>\n",
       "      <td>0</td>\n",
       "      <td>0</td>\n",
       "      <td>0</td>\n",
       "      <td>0</td>\n",
       "      <td>0</td>\n",
       "      <td>0</td>\n",
       "      <td>1</td>\n",
       "      <td>0</td>\n",
       "      <td>0</td>\n",
       "    </tr>\n",
       "    <tr>\n",
       "      <th>30159</th>\n",
       "      <td>22</td>\n",
       "      <td>9</td>\n",
       "      <td>0</td>\n",
       "      <td>0</td>\n",
       "      <td>20</td>\n",
       "      <td>0</td>\n",
       "      <td>0</td>\n",
       "      <td>1</td>\n",
       "      <td>0</td>\n",
       "      <td>0</td>\n",
       "      <td>...</td>\n",
       "      <td>0</td>\n",
       "      <td>0</td>\n",
       "      <td>0</td>\n",
       "      <td>0</td>\n",
       "      <td>0</td>\n",
       "      <td>0</td>\n",
       "      <td>0</td>\n",
       "      <td>1</td>\n",
       "      <td>0</td>\n",
       "      <td>0</td>\n",
       "    </tr>\n",
       "    <tr>\n",
       "      <th>30160</th>\n",
       "      <td>52</td>\n",
       "      <td>9</td>\n",
       "      <td>15024</td>\n",
       "      <td>0</td>\n",
       "      <td>40</td>\n",
       "      <td>0</td>\n",
       "      <td>0</td>\n",
       "      <td>0</td>\n",
       "      <td>1</td>\n",
       "      <td>0</td>\n",
       "      <td>...</td>\n",
       "      <td>0</td>\n",
       "      <td>0</td>\n",
       "      <td>0</td>\n",
       "      <td>0</td>\n",
       "      <td>0</td>\n",
       "      <td>0</td>\n",
       "      <td>0</td>\n",
       "      <td>1</td>\n",
       "      <td>0</td>\n",
       "      <td>0</td>\n",
       "    </tr>\n",
       "  </tbody>\n",
       "</table>\n",
       "<p>30161 rows × 102 columns</p>\n",
       "</div>"
      ],
      "text/plain": [
       "       age  educationno  capitalgain  capitalloss  hoursperweek  \\\n",
       "0       39           13         2174            0            40   \n",
       "1       50           13            0            0            13   \n",
       "2       38            9            0            0            40   \n",
       "3       53            7            0            0            40   \n",
       "4       28           13            0            0            40   \n",
       "...    ...          ...          ...          ...           ...   \n",
       "30156   27           12            0            0            38   \n",
       "30157   40            9            0            0            40   \n",
       "30158   58            9            0            0            40   \n",
       "30159   22            9            0            0            20   \n",
       "30160   52            9        15024            0            40   \n",
       "\n",
       "       workclass_ Federal-gov  workclass_ Local-gov  workclass_ Private  \\\n",
       "0                           0                     0                   0   \n",
       "1                           0                     0                   0   \n",
       "2                           0                     0                   1   \n",
       "3                           0                     0                   1   \n",
       "4                           0                     0                   1   \n",
       "...                       ...                   ...                 ...   \n",
       "30156                       0                     0                   1   \n",
       "30157                       0                     0                   1   \n",
       "30158                       0                     0                   1   \n",
       "30159                       0                     0                   1   \n",
       "30160                       0                     0                   0   \n",
       "\n",
       "       workclass_ Self-emp-inc  workclass_ Self-emp-not-inc  ...  \\\n",
       "0                            0                            0  ...   \n",
       "1                            0                            1  ...   \n",
       "2                            0                            0  ...   \n",
       "3                            0                            0  ...   \n",
       "4                            0                            0  ...   \n",
       "...                        ...                          ...  ...   \n",
       "30156                        0                            0  ...   \n",
       "30157                        0                            0  ...   \n",
       "30158                        0                            0  ...   \n",
       "30159                        0                            0  ...   \n",
       "30160                        1                            0  ...   \n",
       "\n",
       "       native_ Portugal  native_ Puerto-Rico  native_ Scotland  native_ South  \\\n",
       "0                     0                    0                 0              0   \n",
       "1                     0                    0                 0              0   \n",
       "2                     0                    0                 0              0   \n",
       "3                     0                    0                 0              0   \n",
       "4                     0                    0                 0              0   \n",
       "...                 ...                  ...               ...            ...   \n",
       "30156                 0                    0                 0              0   \n",
       "30157                 0                    0                 0              0   \n",
       "30158                 0                    0                 0              0   \n",
       "30159                 0                    0                 0              0   \n",
       "30160                 0                    0                 0              0   \n",
       "\n",
       "       native_ Taiwan  native_ Thailand  native_ Trinadad&Tobago  \\\n",
       "0                   0                 0                        0   \n",
       "1                   0                 0                        0   \n",
       "2                   0                 0                        0   \n",
       "3                   0                 0                        0   \n",
       "4                   0                 0                        0   \n",
       "...               ...               ...                      ...   \n",
       "30156               0                 0                        0   \n",
       "30157               0                 0                        0   \n",
       "30158               0                 0                        0   \n",
       "30159               0                 0                        0   \n",
       "30160               0                 0                        0   \n",
       "\n",
       "       native_ United-States  native_ Vietnam  native_ Yugoslavia  \n",
       "0                          1                0                   0  \n",
       "1                          1                0                   0  \n",
       "2                          1                0                   0  \n",
       "3                          1                0                   0  \n",
       "4                          0                0                   0  \n",
       "...                      ...              ...                 ...  \n",
       "30156                      1                0                   0  \n",
       "30157                      1                0                   0  \n",
       "30158                      1                0                   0  \n",
       "30159                      1                0                   0  \n",
       "30160                      1                0                   0  \n",
       "\n",
       "[30161 rows x 102 columns]"
      ]
     },
     "execution_count": 18,
     "metadata": {},
     "output_type": "execute_result"
    }
   ],
   "source": [
    "X_train"
   ]
  },
  {
   "cell_type": "code",
   "execution_count": 19,
   "id": "b707d999",
   "metadata": {},
   "outputs": [
    {
     "data": {
      "text/plain": [
       " <=50K    22653\n",
       " >50K      7508\n",
       "Name: Salary, dtype: int64"
      ]
     },
     "execution_count": 19,
     "metadata": {},
     "output_type": "execute_result"
    }
   ],
   "source": [
    "Y_train.value_counts()"
   ]
  },
  {
   "cell_type": "code",
   "execution_count": 14,
   "id": "500b63ca",
   "metadata": {},
   "outputs": [
    {
     "data": {
      "text/html": [
       "<div>\n",
       "<style scoped>\n",
       "    .dataframe tbody tr th:only-of-type {\n",
       "        vertical-align: middle;\n",
       "    }\n",
       "\n",
       "    .dataframe tbody tr th {\n",
       "        vertical-align: top;\n",
       "    }\n",
       "\n",
       "    .dataframe thead th {\n",
       "        text-align: right;\n",
       "    }\n",
       "</style>\n",
       "<table border=\"1\" class=\"dataframe\">\n",
       "  <thead>\n",
       "    <tr style=\"text-align: right;\">\n",
       "      <th></th>\n",
       "      <th>age</th>\n",
       "      <th>educationno</th>\n",
       "      <th>capitalgain</th>\n",
       "      <th>capitalloss</th>\n",
       "      <th>hoursperweek</th>\n",
       "      <th>workclass_ Federal-gov</th>\n",
       "      <th>workclass_ Local-gov</th>\n",
       "      <th>workclass_ Private</th>\n",
       "      <th>workclass_ Self-emp-inc</th>\n",
       "      <th>workclass_ Self-emp-not-inc</th>\n",
       "      <th>...</th>\n",
       "      <th>native_ Portugal</th>\n",
       "      <th>native_ Puerto-Rico</th>\n",
       "      <th>native_ Scotland</th>\n",
       "      <th>native_ South</th>\n",
       "      <th>native_ Taiwan</th>\n",
       "      <th>native_ Thailand</th>\n",
       "      <th>native_ Trinadad&amp;Tobago</th>\n",
       "      <th>native_ United-States</th>\n",
       "      <th>native_ Vietnam</th>\n",
       "      <th>native_ Yugoslavia</th>\n",
       "    </tr>\n",
       "  </thead>\n",
       "  <tbody>\n",
       "    <tr>\n",
       "      <th>0</th>\n",
       "      <td>25</td>\n",
       "      <td>7</td>\n",
       "      <td>0</td>\n",
       "      <td>0</td>\n",
       "      <td>40</td>\n",
       "      <td>0</td>\n",
       "      <td>0</td>\n",
       "      <td>1</td>\n",
       "      <td>0</td>\n",
       "      <td>0</td>\n",
       "      <td>...</td>\n",
       "      <td>0</td>\n",
       "      <td>0</td>\n",
       "      <td>0</td>\n",
       "      <td>0</td>\n",
       "      <td>0</td>\n",
       "      <td>0</td>\n",
       "      <td>0</td>\n",
       "      <td>1</td>\n",
       "      <td>0</td>\n",
       "      <td>0</td>\n",
       "    </tr>\n",
       "    <tr>\n",
       "      <th>1</th>\n",
       "      <td>38</td>\n",
       "      <td>9</td>\n",
       "      <td>0</td>\n",
       "      <td>0</td>\n",
       "      <td>50</td>\n",
       "      <td>0</td>\n",
       "      <td>0</td>\n",
       "      <td>1</td>\n",
       "      <td>0</td>\n",
       "      <td>0</td>\n",
       "      <td>...</td>\n",
       "      <td>0</td>\n",
       "      <td>0</td>\n",
       "      <td>0</td>\n",
       "      <td>0</td>\n",
       "      <td>0</td>\n",
       "      <td>0</td>\n",
       "      <td>0</td>\n",
       "      <td>1</td>\n",
       "      <td>0</td>\n",
       "      <td>0</td>\n",
       "    </tr>\n",
       "    <tr>\n",
       "      <th>2</th>\n",
       "      <td>28</td>\n",
       "      <td>12</td>\n",
       "      <td>0</td>\n",
       "      <td>0</td>\n",
       "      <td>40</td>\n",
       "      <td>0</td>\n",
       "      <td>1</td>\n",
       "      <td>0</td>\n",
       "      <td>0</td>\n",
       "      <td>0</td>\n",
       "      <td>...</td>\n",
       "      <td>0</td>\n",
       "      <td>0</td>\n",
       "      <td>0</td>\n",
       "      <td>0</td>\n",
       "      <td>0</td>\n",
       "      <td>0</td>\n",
       "      <td>0</td>\n",
       "      <td>1</td>\n",
       "      <td>0</td>\n",
       "      <td>0</td>\n",
       "    </tr>\n",
       "    <tr>\n",
       "      <th>3</th>\n",
       "      <td>44</td>\n",
       "      <td>10</td>\n",
       "      <td>7688</td>\n",
       "      <td>0</td>\n",
       "      <td>40</td>\n",
       "      <td>0</td>\n",
       "      <td>0</td>\n",
       "      <td>1</td>\n",
       "      <td>0</td>\n",
       "      <td>0</td>\n",
       "      <td>...</td>\n",
       "      <td>0</td>\n",
       "      <td>0</td>\n",
       "      <td>0</td>\n",
       "      <td>0</td>\n",
       "      <td>0</td>\n",
       "      <td>0</td>\n",
       "      <td>0</td>\n",
       "      <td>1</td>\n",
       "      <td>0</td>\n",
       "      <td>0</td>\n",
       "    </tr>\n",
       "    <tr>\n",
       "      <th>4</th>\n",
       "      <td>34</td>\n",
       "      <td>6</td>\n",
       "      <td>0</td>\n",
       "      <td>0</td>\n",
       "      <td>30</td>\n",
       "      <td>0</td>\n",
       "      <td>0</td>\n",
       "      <td>1</td>\n",
       "      <td>0</td>\n",
       "      <td>0</td>\n",
       "      <td>...</td>\n",
       "      <td>0</td>\n",
       "      <td>0</td>\n",
       "      <td>0</td>\n",
       "      <td>0</td>\n",
       "      <td>0</td>\n",
       "      <td>0</td>\n",
       "      <td>0</td>\n",
       "      <td>1</td>\n",
       "      <td>0</td>\n",
       "      <td>0</td>\n",
       "    </tr>\n",
       "    <tr>\n",
       "      <th>...</th>\n",
       "      <td>...</td>\n",
       "      <td>...</td>\n",
       "      <td>...</td>\n",
       "      <td>...</td>\n",
       "      <td>...</td>\n",
       "      <td>...</td>\n",
       "      <td>...</td>\n",
       "      <td>...</td>\n",
       "      <td>...</td>\n",
       "      <td>...</td>\n",
       "      <td>...</td>\n",
       "      <td>...</td>\n",
       "      <td>...</td>\n",
       "      <td>...</td>\n",
       "      <td>...</td>\n",
       "      <td>...</td>\n",
       "      <td>...</td>\n",
       "      <td>...</td>\n",
       "      <td>...</td>\n",
       "      <td>...</td>\n",
       "      <td>...</td>\n",
       "    </tr>\n",
       "    <tr>\n",
       "      <th>15055</th>\n",
       "      <td>33</td>\n",
       "      <td>13</td>\n",
       "      <td>0</td>\n",
       "      <td>0</td>\n",
       "      <td>40</td>\n",
       "      <td>0</td>\n",
       "      <td>0</td>\n",
       "      <td>1</td>\n",
       "      <td>0</td>\n",
       "      <td>0</td>\n",
       "      <td>...</td>\n",
       "      <td>0</td>\n",
       "      <td>0</td>\n",
       "      <td>0</td>\n",
       "      <td>0</td>\n",
       "      <td>0</td>\n",
       "      <td>0</td>\n",
       "      <td>0</td>\n",
       "      <td>1</td>\n",
       "      <td>0</td>\n",
       "      <td>0</td>\n",
       "    </tr>\n",
       "    <tr>\n",
       "      <th>15056</th>\n",
       "      <td>39</td>\n",
       "      <td>13</td>\n",
       "      <td>0</td>\n",
       "      <td>0</td>\n",
       "      <td>36</td>\n",
       "      <td>0</td>\n",
       "      <td>0</td>\n",
       "      <td>1</td>\n",
       "      <td>0</td>\n",
       "      <td>0</td>\n",
       "      <td>...</td>\n",
       "      <td>0</td>\n",
       "      <td>0</td>\n",
       "      <td>0</td>\n",
       "      <td>0</td>\n",
       "      <td>0</td>\n",
       "      <td>0</td>\n",
       "      <td>0</td>\n",
       "      <td>1</td>\n",
       "      <td>0</td>\n",
       "      <td>0</td>\n",
       "    </tr>\n",
       "    <tr>\n",
       "      <th>15057</th>\n",
       "      <td>38</td>\n",
       "      <td>13</td>\n",
       "      <td>0</td>\n",
       "      <td>0</td>\n",
       "      <td>50</td>\n",
       "      <td>0</td>\n",
       "      <td>0</td>\n",
       "      <td>1</td>\n",
       "      <td>0</td>\n",
       "      <td>0</td>\n",
       "      <td>...</td>\n",
       "      <td>0</td>\n",
       "      <td>0</td>\n",
       "      <td>0</td>\n",
       "      <td>0</td>\n",
       "      <td>0</td>\n",
       "      <td>0</td>\n",
       "      <td>0</td>\n",
       "      <td>1</td>\n",
       "      <td>0</td>\n",
       "      <td>0</td>\n",
       "    </tr>\n",
       "    <tr>\n",
       "      <th>15058</th>\n",
       "      <td>44</td>\n",
       "      <td>13</td>\n",
       "      <td>5455</td>\n",
       "      <td>0</td>\n",
       "      <td>40</td>\n",
       "      <td>0</td>\n",
       "      <td>0</td>\n",
       "      <td>1</td>\n",
       "      <td>0</td>\n",
       "      <td>0</td>\n",
       "      <td>...</td>\n",
       "      <td>0</td>\n",
       "      <td>0</td>\n",
       "      <td>0</td>\n",
       "      <td>0</td>\n",
       "      <td>0</td>\n",
       "      <td>0</td>\n",
       "      <td>0</td>\n",
       "      <td>1</td>\n",
       "      <td>0</td>\n",
       "      <td>0</td>\n",
       "    </tr>\n",
       "    <tr>\n",
       "      <th>15059</th>\n",
       "      <td>35</td>\n",
       "      <td>13</td>\n",
       "      <td>0</td>\n",
       "      <td>0</td>\n",
       "      <td>60</td>\n",
       "      <td>0</td>\n",
       "      <td>0</td>\n",
       "      <td>0</td>\n",
       "      <td>1</td>\n",
       "      <td>0</td>\n",
       "      <td>...</td>\n",
       "      <td>0</td>\n",
       "      <td>0</td>\n",
       "      <td>0</td>\n",
       "      <td>0</td>\n",
       "      <td>0</td>\n",
       "      <td>0</td>\n",
       "      <td>0</td>\n",
       "      <td>1</td>\n",
       "      <td>0</td>\n",
       "      <td>0</td>\n",
       "    </tr>\n",
       "  </tbody>\n",
       "</table>\n",
       "<p>15060 rows × 102 columns</p>\n",
       "</div>"
      ],
      "text/plain": [
       "       age  educationno  capitalgain  capitalloss  hoursperweek  \\\n",
       "0       25            7            0            0            40   \n",
       "1       38            9            0            0            50   \n",
       "2       28           12            0            0            40   \n",
       "3       44           10         7688            0            40   \n",
       "4       34            6            0            0            30   \n",
       "...    ...          ...          ...          ...           ...   \n",
       "15055   33           13            0            0            40   \n",
       "15056   39           13            0            0            36   \n",
       "15057   38           13            0            0            50   \n",
       "15058   44           13         5455            0            40   \n",
       "15059   35           13            0            0            60   \n",
       "\n",
       "       workclass_ Federal-gov  workclass_ Local-gov  workclass_ Private  \\\n",
       "0                           0                     0                   1   \n",
       "1                           0                     0                   1   \n",
       "2                           0                     1                   0   \n",
       "3                           0                     0                   1   \n",
       "4                           0                     0                   1   \n",
       "...                       ...                   ...                 ...   \n",
       "15055                       0                     0                   1   \n",
       "15056                       0                     0                   1   \n",
       "15057                       0                     0                   1   \n",
       "15058                       0                     0                   1   \n",
       "15059                       0                     0                   0   \n",
       "\n",
       "       workclass_ Self-emp-inc  workclass_ Self-emp-not-inc  ...  \\\n",
       "0                            0                            0  ...   \n",
       "1                            0                            0  ...   \n",
       "2                            0                            0  ...   \n",
       "3                            0                            0  ...   \n",
       "4                            0                            0  ...   \n",
       "...                        ...                          ...  ...   \n",
       "15055                        0                            0  ...   \n",
       "15056                        0                            0  ...   \n",
       "15057                        0                            0  ...   \n",
       "15058                        0                            0  ...   \n",
       "15059                        1                            0  ...   \n",
       "\n",
       "       native_ Portugal  native_ Puerto-Rico  native_ Scotland  native_ South  \\\n",
       "0                     0                    0                 0              0   \n",
       "1                     0                    0                 0              0   \n",
       "2                     0                    0                 0              0   \n",
       "3                     0                    0                 0              0   \n",
       "4                     0                    0                 0              0   \n",
       "...                 ...                  ...               ...            ...   \n",
       "15055                 0                    0                 0              0   \n",
       "15056                 0                    0                 0              0   \n",
       "15057                 0                    0                 0              0   \n",
       "15058                 0                    0                 0              0   \n",
       "15059                 0                    0                 0              0   \n",
       "\n",
       "       native_ Taiwan  native_ Thailand  native_ Trinadad&Tobago  \\\n",
       "0                   0                 0                        0   \n",
       "1                   0                 0                        0   \n",
       "2                   0                 0                        0   \n",
       "3                   0                 0                        0   \n",
       "4                   0                 0                        0   \n",
       "...               ...               ...                      ...   \n",
       "15055               0                 0                        0   \n",
       "15056               0                 0                        0   \n",
       "15057               0                 0                        0   \n",
       "15058               0                 0                        0   \n",
       "15059               0                 0                        0   \n",
       "\n",
       "       native_ United-States  native_ Vietnam  native_ Yugoslavia  \n",
       "0                          1                0                   0  \n",
       "1                          1                0                   0  \n",
       "2                          1                0                   0  \n",
       "3                          1                0                   0  \n",
       "4                          1                0                   0  \n",
       "...                      ...              ...                 ...  \n",
       "15055                      1                0                   0  \n",
       "15056                      1                0                   0  \n",
       "15057                      1                0                   0  \n",
       "15058                      1                0                   0  \n",
       "15059                      1                0                   0  \n",
       "\n",
       "[15060 rows x 102 columns]"
      ]
     },
     "execution_count": 14,
     "metadata": {},
     "output_type": "execute_result"
    }
   ],
   "source": [
    "X_test"
   ]
  },
  {
   "cell_type": "code",
   "execution_count": 15,
   "id": "9f7300c9",
   "metadata": {},
   "outputs": [
    {
     "data": {
      "text/plain": [
       " <=50K    11360\n",
       " >50K      3700\n",
       "Name: Salary, dtype: int64"
      ]
     },
     "execution_count": 15,
     "metadata": {},
     "output_type": "execute_result"
    }
   ],
   "source": [
    "Y_test.value_counts()"
   ]
  },
  {
   "cell_type": "code",
   "execution_count": 20,
   "id": "1b4d4630",
   "metadata": {},
   "outputs": [],
   "source": [
    "import numpy as np\n",
    "import pylab as pl\n",
    "\n",
    "from sklearn.svm import SVC\n",
    "from sklearn.preprocessing import StandardScaler\n",
    "from sklearn.datasets import load_iris\n",
    "from sklearn.model_selection import StratifiedKFold\n",
    "from sklearn.model_selection import GridSearchCV"
   ]
  },
  {
   "cell_type": "markdown",
   "id": "923542f9",
   "metadata": {},
   "source": [
    "### The no. of columns are high, so I will use PCA"
   ]
  },
  {
   "cell_type": "markdown",
   "id": "aca86b51",
   "metadata": {},
   "source": [
    "#### Normalization using StandardScaler"
   ]
  },
  {
   "cell_type": "code",
   "execution_count": 21,
   "id": "da5f51df",
   "metadata": {},
   "outputs": [],
   "source": [
    "scaler = StandardScaler()\n",
    "X_train_norm = scaler.fit_transform(X_train)\n",
    "X_test_norm = scaler.fit_transform(X_test)"
   ]
  },
  {
   "cell_type": "code",
   "execution_count": 22,
   "id": "fd6f64e2",
   "metadata": {},
   "outputs": [
    {
     "name": "stdout",
     "output_type": "stream",
     "text": [
      "[[-5.50838008e-01 -2.38164986e+00 -5.91921169e-01 ... -1.79532617e-15\n",
      "  -9.34415883e-15  1.13972556e-15]\n",
      " [ 2.81915829e+00 -1.37085459e+00 -4.81126421e-02 ...  4.22376739e-15\n",
      "  -7.75657164e-16  5.13740185e-16]\n",
      " [-7.93831525e-01  8.71803957e-01 -1.20213150e+00 ... -2.08551838e-16\n",
      "  -2.12830688e-15  4.48793477e-16]\n",
      " ...\n",
      " [-2.37835145e+00 -7.98690413e-01  3.39105780e-01 ...  3.46535844e-17\n",
      "   3.19831668e-17  3.53088594e-17]\n",
      " [-1.97547719e+00  1.19305162e+00 -1.82899406e+00 ...  2.62415224e-17\n",
      "  -2.19256514e-17  2.61499175e-17]\n",
      " [ 7.62131786e-01 -1.77200870e+00  5.36971989e-01 ...  8.38734495e-17\n",
      "  -3.49378560e-16  5.00319670e-17]]\n"
     ]
    },
    {
     "data": {
      "text/plain": [
       "array([[-2.24293780e+00,  2.60318091e+00, -3.27616503e-01, ...,\n",
       "         1.92817773e-14,  8.30910128e-16, -1.58428838e-15],\n",
       "       [ 2.22690391e+00,  1.59471521e+00, -7.32082794e-01, ...,\n",
       "        -8.62085601e-15,  5.43152267e-16, -5.80972044e-15],\n",
       "       [ 2.30704416e+00, -1.16883181e+00, -2.00521481e-01, ...,\n",
       "         1.31286230e-15, -1.10113540e-15,  1.93760049e-15],\n",
       "       ...,\n",
       "       [ 2.39583218e+00, -1.46859740e+00, -2.09424792e-01, ...,\n",
       "         4.59891290e-18, -8.37082305e-18,  9.65662668e-17],\n",
       "       [-1.14039506e+00, -1.03678137e+00,  2.58079490e+00, ...,\n",
       "         5.87381929e-16, -2.54421165e-16,  6.10157290e-16],\n",
       "       [ 3.38445120e+00, -1.95481575e+00, -1.72791531e-01, ...,\n",
       "        -2.33411350e-17,  6.86567346e-18, -2.11621488e-16]])"
      ]
     },
     "execution_count": 22,
     "metadata": {},
     "output_type": "execute_result"
    }
   ],
   "source": [
    "from sklearn.decomposition import PCA\n",
    "\n",
    "X_train_pca = PCA(n_components = 102)\n",
    "X_train_pca_values = X_train_pca.fit_transform(X_train_norm)\n",
    "print(X_train_pca_values)\n",
    "\n",
    "X_test_pca = PCA(n_components = 102)\n",
    "X_test_pca_values = X_test_pca.fit_transform(X_test_norm)\n",
    "X_test_pca_values"
   ]
  },
  {
   "cell_type": "markdown",
   "id": "9fd5edb7",
   "metadata": {},
   "source": [
    "#### The amount of variance explained by PCA"
   ]
  },
  {
   "cell_type": "code",
   "execution_count": 23,
   "id": "66ca258c",
   "metadata": {},
   "outputs": [
    {
     "data": {
      "text/plain": [
       "array([4.47952203e-02, 3.03018755e-02, 2.56772664e-02, 2.30740938e-02,\n",
       "       1.90544461e-02, 1.75159608e-02, 1.66112958e-02, 1.51765356e-02,\n",
       "       1.40918479e-02, 1.37139289e-02, 1.30161578e-02, 1.27145892e-02,\n",
       "       1.22845420e-02, 1.20633855e-02, 1.19277829e-02, 1.17776199e-02,\n",
       "       1.15732784e-02, 1.14595050e-02, 1.12290572e-02, 1.10955712e-02,\n",
       "       1.09763472e-02, 1.09664173e-02, 1.08013630e-02, 1.07163253e-02,\n",
       "       1.06965233e-02, 1.06243926e-02, 1.05150466e-02, 1.04401201e-02,\n",
       "       1.04195534e-02, 1.03772631e-02, 1.02585913e-02, 1.02518285e-02,\n",
       "       1.02343018e-02, 1.02011311e-02, 1.01746044e-02, 1.00893885e-02,\n",
       "       1.00693090e-02, 1.00007488e-02, 9.97967518e-03, 9.93621541e-03,\n",
       "       9.91132587e-03, 9.87257873e-03, 9.85864172e-03, 9.85346688e-03,\n",
       "       9.83507641e-03, 9.82654639e-03, 9.82141035e-03, 9.81950938e-03,\n",
       "       9.81361594e-03, 9.80760489e-03, 9.80531422e-03, 9.80056163e-03,\n",
       "       9.79178710e-03, 9.77352236e-03, 9.77198782e-03, 9.75826765e-03,\n",
       "       9.72396821e-03, 9.71129292e-03, 9.68894621e-03, 9.68294717e-03,\n",
       "       9.66009263e-03, 9.63768491e-03, 9.62281079e-03, 9.58462673e-03,\n",
       "       9.56141726e-03, 9.52463771e-03, 9.42925368e-03, 9.41301408e-03,\n",
       "       9.36144053e-03, 9.30687373e-03, 9.28398704e-03, 9.11455862e-03,\n",
       "       9.07861857e-03, 9.01571083e-03, 8.94583330e-03, 8.83778340e-03,\n",
       "       8.72770250e-03, 8.59927945e-03, 8.45704067e-03, 8.40278797e-03,\n",
       "       8.31065450e-03, 7.87100230e-03, 7.65417979e-03, 7.17339353e-03,\n",
       "       7.15472018e-03, 6.46609230e-03, 6.11577048e-03, 5.95158857e-03,\n",
       "       5.31995594e-03, 4.76166961e-03, 4.27250537e-03, 2.37624831e-03,\n",
       "       1.95586706e-04, 6.88935999e-32, 4.20990841e-32, 2.88095249e-32,\n",
       "       1.99995413e-32, 1.17745722e-32, 9.65532960e-33, 7.96751008e-33,\n",
       "       3.90705830e-33, 2.38365651e-34])"
      ]
     },
     "execution_count": 23,
     "metadata": {},
     "output_type": "execute_result"
    }
   ],
   "source": [
    "var = X_train_pca.explained_variance_ratio_\n",
    "var"
   ]
  },
  {
   "cell_type": "markdown",
   "id": "6af7c734",
   "metadata": {},
   "source": [
    "##### Cumulative Variance"
   ]
  },
  {
   "cell_type": "code",
   "execution_count": 24,
   "id": "19fe5275",
   "metadata": {},
   "outputs": [
    {
     "data": {
      "text/plain": [
       "array([  4.48,   7.51,  10.08,  12.39,  14.3 ,  16.05,  17.71,  19.23,\n",
       "        20.64,  22.01,  23.31,  24.58,  25.81,  27.02,  28.21,  29.39,\n",
       "        30.55,  31.7 ,  32.82,  33.93,  35.03,  36.13,  37.21,  38.28,\n",
       "        39.35,  40.41,  41.46,  42.5 ,  43.54,  44.58,  45.61,  46.64,\n",
       "        47.66,  48.68,  49.7 ,  50.71,  51.72,  52.72,  53.72,  54.71,\n",
       "        55.7 ,  56.69,  57.68,  58.67,  59.65,  60.63,  61.61,  62.59,\n",
       "        63.57,  64.55,  65.53,  66.51,  67.49,  68.47,  69.45,  70.43,\n",
       "        71.4 ,  72.37,  73.34,  74.31,  75.28,  76.24,  77.2 ,  78.16,\n",
       "        79.12,  80.07,  81.01,  81.95,  82.89,  83.82,  84.75,  85.66,\n",
       "        86.57,  87.47,  88.36,  89.24,  90.11,  90.97,  91.82,  92.66,\n",
       "        93.49,  94.28,  95.05,  95.77,  96.49,  97.14,  97.75,  98.35,\n",
       "        98.88,  99.36,  99.79, 100.03, 100.05, 100.05, 100.05, 100.05,\n",
       "       100.05, 100.05, 100.05, 100.05, 100.05, 100.05])"
      ]
     },
     "execution_count": 24,
     "metadata": {},
     "output_type": "execute_result"
    }
   ],
   "source": [
    "var1 = np.cumsum(np.round(var,decimals = 4)*100)\n",
    "var1"
   ]
  },
  {
   "cell_type": "markdown",
   "id": "f1f473a5",
   "metadata": {},
   "source": [
    "##### Variance plot for PCA components obtained"
   ]
  },
  {
   "cell_type": "code",
   "execution_count": 25,
   "id": "d31d92ca",
   "metadata": {},
   "outputs": [
    {
     "data": {
      "image/png": "[encoded data removed]",
      "text/plain": [
       "<Figure size 864x288 with 1 Axes>"
      ]
     },
     "metadata": {
      "needs_background": "light"
     },
     "output_type": "display_data"
    }
   ],
   "source": [
    "import matplotlib.pyplot as plt\n",
    "plt.figure(figsize=(12,4))\n",
    "plt.plot(var1,color=\"red\");"
   ]
  },
  {
   "cell_type": "markdown",
   "id": "8dda423f",
   "metadata": {},
   "source": [
    "##### Selecting first 90 components of PCA"
   ]
  },
  {
   "cell_type": "code",
   "execution_count": 26,
   "id": "cea91cea",
   "metadata": {},
   "outputs": [
    {
     "data": {
      "text/html": [
       "<div>\n",
       "<style scoped>\n",
       "    .dataframe tbody tr th:only-of-type {\n",
       "        vertical-align: middle;\n",
       "    }\n",
       "\n",
       "    .dataframe tbody tr th {\n",
       "        vertical-align: top;\n",
       "    }\n",
       "\n",
       "    .dataframe thead th {\n",
       "        text-align: right;\n",
       "    }\n",
       "</style>\n",
       "<table border=\"1\" class=\"dataframe\">\n",
       "  <thead>\n",
       "    <tr style=\"text-align: right;\">\n",
       "      <th></th>\n",
       "      <th>0</th>\n",
       "      <th>1</th>\n",
       "      <th>2</th>\n",
       "      <th>3</th>\n",
       "      <th>4</th>\n",
       "      <th>5</th>\n",
       "      <th>6</th>\n",
       "      <th>7</th>\n",
       "      <th>8</th>\n",
       "      <th>9</th>\n",
       "      <th>...</th>\n",
       "      <th>81</th>\n",
       "      <th>82</th>\n",
       "      <th>83</th>\n",
       "      <th>84</th>\n",
       "      <th>85</th>\n",
       "      <th>86</th>\n",
       "      <th>87</th>\n",
       "      <th>88</th>\n",
       "      <th>89</th>\n",
       "      <th>Salary</th>\n",
       "    </tr>\n",
       "  </thead>\n",
       "  <tbody>\n",
       "    <tr>\n",
       "      <th>0</th>\n",
       "      <td>-0.550838</td>\n",
       "      <td>-2.381650</td>\n",
       "      <td>-0.591921</td>\n",
       "      <td>1.433211</td>\n",
       "      <td>0.340516</td>\n",
       "      <td>1.940931</td>\n",
       "      <td>-0.055056</td>\n",
       "      <td>0.515267</td>\n",
       "      <td>-0.603118</td>\n",
       "      <td>-1.349744</td>\n",
       "      <td>...</td>\n",
       "      <td>0.925827</td>\n",
       "      <td>0.366843</td>\n",
       "      <td>0.762292</td>\n",
       "      <td>0.955908</td>\n",
       "      <td>-0.431471</td>\n",
       "      <td>-0.253518</td>\n",
       "      <td>-0.090683</td>\n",
       "      <td>1.446239</td>\n",
       "      <td>0.537054</td>\n",
       "      <td>&lt;=50K</td>\n",
       "    </tr>\n",
       "    <tr>\n",
       "      <th>1</th>\n",
       "      <td>2.819158</td>\n",
       "      <td>-1.370855</td>\n",
       "      <td>-0.048113</td>\n",
       "      <td>0.060772</td>\n",
       "      <td>0.148609</td>\n",
       "      <td>0.494097</td>\n",
       "      <td>0.971070</td>\n",
       "      <td>0.977166</td>\n",
       "      <td>-1.058340</td>\n",
       "      <td>1.543212</td>\n",
       "      <td>...</td>\n",
       "      <td>1.715245</td>\n",
       "      <td>-0.684681</td>\n",
       "      <td>0.173783</td>\n",
       "      <td>-1.120804</td>\n",
       "      <td>1.043838</td>\n",
       "      <td>-1.127099</td>\n",
       "      <td>0.538383</td>\n",
       "      <td>-0.179721</td>\n",
       "      <td>0.006457</td>\n",
       "      <td>&lt;=50K</td>\n",
       "    </tr>\n",
       "    <tr>\n",
       "      <th>2</th>\n",
       "      <td>-0.793832</td>\n",
       "      <td>0.871804</td>\n",
       "      <td>-1.202131</td>\n",
       "      <td>-0.513685</td>\n",
       "      <td>0.452004</td>\n",
       "      <td>0.675599</td>\n",
       "      <td>-2.665003</td>\n",
       "      <td>0.041210</td>\n",
       "      <td>0.966047</td>\n",
       "      <td>-0.942719</td>\n",
       "      <td>...</td>\n",
       "      <td>0.666397</td>\n",
       "      <td>-0.126942</td>\n",
       "      <td>-0.368158</td>\n",
       "      <td>0.399572</td>\n",
       "      <td>0.094164</td>\n",
       "      <td>-0.001750</td>\n",
       "      <td>-0.622668</td>\n",
       "      <td>0.114582</td>\n",
       "      <td>0.079789</td>\n",
       "      <td>&lt;=50K</td>\n",
       "    </tr>\n",
       "    <tr>\n",
       "      <th>3</th>\n",
       "      <td>0.732942</td>\n",
       "      <td>2.502494</td>\n",
       "      <td>0.763990</td>\n",
       "      <td>-0.149514</td>\n",
       "      <td>-3.056486</td>\n",
       "      <td>0.166519</td>\n",
       "      <td>0.140931</td>\n",
       "      <td>-2.430582</td>\n",
       "      <td>0.155941</td>\n",
       "      <td>1.066790</td>\n",
       "      <td>...</td>\n",
       "      <td>0.058897</td>\n",
       "      <td>0.409911</td>\n",
       "      <td>0.952768</td>\n",
       "      <td>0.193645</td>\n",
       "      <td>0.292208</td>\n",
       "      <td>0.033568</td>\n",
       "      <td>-0.226799</td>\n",
       "      <td>-0.779685</td>\n",
       "      <td>0.367130</td>\n",
       "      <td>&lt;=50K</td>\n",
       "    </tr>\n",
       "    <tr>\n",
       "      <th>4</th>\n",
       "      <td>-1.070350</td>\n",
       "      <td>-1.638424</td>\n",
       "      <td>4.542395</td>\n",
       "      <td>0.260940</td>\n",
       "      <td>0.650488</td>\n",
       "      <td>-2.473710</td>\n",
       "      <td>2.483233</td>\n",
       "      <td>-2.795740</td>\n",
       "      <td>-0.249688</td>\n",
       "      <td>1.001833</td>\n",
       "      <td>...</td>\n",
       "      <td>-1.388747</td>\n",
       "      <td>0.857151</td>\n",
       "      <td>-1.132278</td>\n",
       "      <td>0.924125</td>\n",
       "      <td>0.087501</td>\n",
       "      <td>-0.409813</td>\n",
       "      <td>-0.711475</td>\n",
       "      <td>0.566080</td>\n",
       "      <td>-1.599465</td>\n",
       "      <td>&lt;=50K</td>\n",
       "    </tr>\n",
       "    <tr>\n",
       "      <th>...</th>\n",
       "      <td>...</td>\n",
       "      <td>...</td>\n",
       "      <td>...</td>\n",
       "      <td>...</td>\n",
       "      <td>...</td>\n",
       "      <td>...</td>\n",
       "      <td>...</td>\n",
       "      <td>...</td>\n",
       "      <td>...</td>\n",
       "      <td>...</td>\n",
       "      <td>...</td>\n",
       "      <td>...</td>\n",
       "      <td>...</td>\n",
       "      <td>...</td>\n",
       "      <td>...</td>\n",
       "      <td>...</td>\n",
       "      <td>...</td>\n",
       "      <td>...</td>\n",
       "      <td>...</td>\n",
       "      <td>...</td>\n",
       "      <td>...</td>\n",
       "    </tr>\n",
       "    <tr>\n",
       "      <th>30156</th>\n",
       "      <td>-0.766825</td>\n",
       "      <td>-1.596732</td>\n",
       "      <td>-0.037113</td>\n",
       "      <td>-0.576608</td>\n",
       "      <td>0.331904</td>\n",
       "      <td>-3.490439</td>\n",
       "      <td>2.320920</td>\n",
       "      <td>-0.117277</td>\n",
       "      <td>-0.388185</td>\n",
       "      <td>-1.112954</td>\n",
       "      <td>...</td>\n",
       "      <td>-0.680328</td>\n",
       "      <td>0.177364</td>\n",
       "      <td>-0.265304</td>\n",
       "      <td>-0.170305</td>\n",
       "      <td>0.307492</td>\n",
       "      <td>-0.087299</td>\n",
       "      <td>-0.407937</td>\n",
       "      <td>1.072890</td>\n",
       "      <td>-0.389103</td>\n",
       "      <td>&lt;=50K</td>\n",
       "    </tr>\n",
       "    <tr>\n",
       "      <th>30157</th>\n",
       "      <td>1.704432</td>\n",
       "      <td>1.785328</td>\n",
       "      <td>-0.594925</td>\n",
       "      <td>-0.692498</td>\n",
       "      <td>-0.411458</td>\n",
       "      <td>-1.251061</td>\n",
       "      <td>-0.505186</td>\n",
       "      <td>-0.513443</td>\n",
       "      <td>1.286209</td>\n",
       "      <td>-0.530841</td>\n",
       "      <td>...</td>\n",
       "      <td>0.603116</td>\n",
       "      <td>-0.279650</td>\n",
       "      <td>0.035936</td>\n",
       "      <td>0.532717</td>\n",
       "      <td>-0.070438</td>\n",
       "      <td>-0.160400</td>\n",
       "      <td>0.100112</td>\n",
       "      <td>-0.124855</td>\n",
       "      <td>0.253184</td>\n",
       "      <td>&gt;50K</td>\n",
       "    </tr>\n",
       "    <tr>\n",
       "      <th>30158</th>\n",
       "      <td>-2.378351</td>\n",
       "      <td>-0.798690</td>\n",
       "      <td>0.339106</td>\n",
       "      <td>-4.067833</td>\n",
       "      <td>0.281604</td>\n",
       "      <td>-1.215646</td>\n",
       "      <td>-0.253538</td>\n",
       "      <td>1.090962</td>\n",
       "      <td>0.960431</td>\n",
       "      <td>0.065679</td>\n",
       "      <td>...</td>\n",
       "      <td>-1.205160</td>\n",
       "      <td>0.177494</td>\n",
       "      <td>0.668585</td>\n",
       "      <td>0.528450</td>\n",
       "      <td>0.580482</td>\n",
       "      <td>0.156868</td>\n",
       "      <td>-0.442096</td>\n",
       "      <td>0.753165</td>\n",
       "      <td>-0.657852</td>\n",
       "      <td>&lt;=50K</td>\n",
       "    </tr>\n",
       "    <tr>\n",
       "      <th>30159</th>\n",
       "      <td>-1.975477</td>\n",
       "      <td>1.193052</td>\n",
       "      <td>-1.828994</td>\n",
       "      <td>1.598638</td>\n",
       "      <td>-0.633416</td>\n",
       "      <td>-0.187607</td>\n",
       "      <td>0.789310</td>\n",
       "      <td>0.860548</td>\n",
       "      <td>0.808205</td>\n",
       "      <td>-0.906124</td>\n",
       "      <td>...</td>\n",
       "      <td>1.329776</td>\n",
       "      <td>-0.312235</td>\n",
       "      <td>0.180269</td>\n",
       "      <td>-1.124998</td>\n",
       "      <td>0.500770</td>\n",
       "      <td>-0.047237</td>\n",
       "      <td>-0.227867</td>\n",
       "      <td>0.993340</td>\n",
       "      <td>-0.939524</td>\n",
       "      <td>&lt;=50K</td>\n",
       "    </tr>\n",
       "    <tr>\n",
       "      <th>30160</th>\n",
       "      <td>0.762132</td>\n",
       "      <td>-1.772009</td>\n",
       "      <td>0.536972</td>\n",
       "      <td>-2.417460</td>\n",
       "      <td>0.352371</td>\n",
       "      <td>-1.720856</td>\n",
       "      <td>2.466035</td>\n",
       "      <td>1.201089</td>\n",
       "      <td>0.049580</td>\n",
       "      <td>2.336657</td>\n",
       "      <td>...</td>\n",
       "      <td>-0.101924</td>\n",
       "      <td>-0.081743</td>\n",
       "      <td>-1.601187</td>\n",
       "      <td>-0.338971</td>\n",
       "      <td>0.643763</td>\n",
       "      <td>-0.635779</td>\n",
       "      <td>0.200448</td>\n",
       "      <td>0.645174</td>\n",
       "      <td>-0.861073</td>\n",
       "      <td>&gt;50K</td>\n",
       "    </tr>\n",
       "  </tbody>\n",
       "</table>\n",
       "<p>30161 rows × 91 columns</p>\n",
       "</div>"
      ],
      "text/plain": [
       "              0         1         2         3         4         5         6  \\\n",
       "0     -0.550838 -2.381650 -0.591921  1.433211  0.340516  1.940931 -0.055056   \n",
       "1      2.819158 -1.370855 -0.048113  0.060772  0.148609  0.494097  0.971070   \n",
       "2     -0.793832  0.871804 -1.202131 -0.513685  0.452004  0.675599 -2.665003   \n",
       "3      0.732942  2.502494  0.763990 -0.149514 -3.056486  0.166519  0.140931   \n",
       "4     -1.070350 -1.638424  4.542395  0.260940  0.650488 -2.473710  2.483233   \n",
       "...         ...       ...       ...       ...       ...       ...       ...   \n",
       "30156 -0.766825 -1.596732 -0.037113 -0.576608  0.331904 -3.490439  2.320920   \n",
       "30157  1.704432  1.785328 -0.594925 -0.692498 -0.411458 -1.251061 -0.505186   \n",
       "30158 -2.378351 -0.798690  0.339106 -4.067833  0.281604 -1.215646 -0.253538   \n",
       "30159 -1.975477  1.193052 -1.828994  1.598638 -0.633416 -0.187607  0.789310   \n",
       "30160  0.762132 -1.772009  0.536972 -2.417460  0.352371 -1.720856  2.466035   \n",
       "\n",
       "              7         8         9  ...        81        82        83  \\\n",
       "0      0.515267 -0.603118 -1.349744  ...  0.925827  0.366843  0.762292   \n",
       "1      0.977166 -1.058340  1.543212  ...  1.715245 -0.684681  0.173783   \n",
       "2      0.041210  0.966047 -0.942719  ...  0.666397 -0.126942 -0.368158   \n",
       "3     -2.430582  0.155941  1.066790  ...  0.058897  0.409911  0.952768   \n",
       "4     -2.795740 -0.249688  1.001833  ... -1.388747  0.857151 -1.132278   \n",
       "...         ...       ...       ...  ...       ...       ...       ...   \n",
       "30156 -0.117277 -0.388185 -1.112954  ... -0.680328  0.177364 -0.265304   \n",
       "30157 -0.513443  1.286209 -0.530841  ...  0.603116 -0.279650  0.035936   \n",
       "30158  1.090962  0.960431  0.065679  ... -1.205160  0.177494  0.668585   \n",
       "30159  0.860548  0.808205 -0.906124  ...  1.329776 -0.312235  0.180269   \n",
       "30160  1.201089  0.049580  2.336657  ... -0.101924 -0.081743 -1.601187   \n",
       "\n",
       "             84        85        86        87        88        89  Salary  \n",
       "0      0.955908 -0.431471 -0.253518 -0.090683  1.446239  0.537054   <=50K  \n",
       "1     -1.120804  1.043838 -1.127099  0.538383 -0.179721  0.006457   <=50K  \n",
       "2      0.399572  0.094164 -0.001750 -0.622668  0.114582  0.079789   <=50K  \n",
       "3      0.193645  0.292208  0.033568 -0.226799 -0.779685  0.367130   <=50K  \n",
       "4      0.924125  0.087501 -0.409813 -0.711475  0.566080 -1.599465   <=50K  \n",
       "...         ...       ...       ...       ...       ...       ...     ...  \n",
       "30156 -0.170305  0.307492 -0.087299 -0.407937  1.072890 -0.389103   <=50K  \n",
       "30157  0.532717 -0.070438 -0.160400  0.100112 -0.124855  0.253184    >50K  \n",
       "30158  0.528450  0.580482  0.156868 -0.442096  0.753165 -0.657852   <=50K  \n",
       "30159 -1.124998  0.500770 -0.047237 -0.227867  0.993340 -0.939524   <=50K  \n",
       "30160 -0.338971  0.643763 -0.635779  0.200448  0.645174 -0.861073    >50K  \n",
       "\n",
       "[30161 rows x 91 columns]"
      ]
     },
     "execution_count": 26,
     "metadata": {},
     "output_type": "execute_result"
    }
   ],
   "source": [
    "train_final = pd.concat([pd.DataFrame(X_train_pca_values[:,0:90]),Y_train], axis = 1)\n",
    "train_final"
   ]
  },
  {
   "cell_type": "code",
   "execution_count": 27,
   "id": "7a9eda8c",
   "metadata": {},
   "outputs": [
    {
     "data": {
      "text/html": [
       "<div>\n",
       "<style scoped>\n",
       "    .dataframe tbody tr th:only-of-type {\n",
       "        vertical-align: middle;\n",
       "    }\n",
       "\n",
       "    .dataframe tbody tr th {\n",
       "        vertical-align: top;\n",
       "    }\n",
       "\n",
       "    .dataframe thead th {\n",
       "        text-align: right;\n",
       "    }\n",
       "</style>\n",
       "<table border=\"1\" class=\"dataframe\">\n",
       "  <thead>\n",
       "    <tr style=\"text-align: right;\">\n",
       "      <th></th>\n",
       "      <th>0</th>\n",
       "      <th>1</th>\n",
       "      <th>2</th>\n",
       "      <th>3</th>\n",
       "      <th>4</th>\n",
       "      <th>5</th>\n",
       "      <th>6</th>\n",
       "      <th>7</th>\n",
       "      <th>8</th>\n",
       "      <th>9</th>\n",
       "      <th>...</th>\n",
       "      <th>81</th>\n",
       "      <th>82</th>\n",
       "      <th>83</th>\n",
       "      <th>84</th>\n",
       "      <th>85</th>\n",
       "      <th>86</th>\n",
       "      <th>87</th>\n",
       "      <th>88</th>\n",
       "      <th>89</th>\n",
       "      <th>Salary</th>\n",
       "    </tr>\n",
       "  </thead>\n",
       "  <tbody>\n",
       "    <tr>\n",
       "      <th>0</th>\n",
       "      <td>-2.242938</td>\n",
       "      <td>2.603181</td>\n",
       "      <td>-0.327617</td>\n",
       "      <td>2.062024</td>\n",
       "      <td>-3.245808</td>\n",
       "      <td>0.812560</td>\n",
       "      <td>-0.442784</td>\n",
       "      <td>-1.685650</td>\n",
       "      <td>0.924250</td>\n",
       "      <td>1.891991</td>\n",
       "      <td>...</td>\n",
       "      <td>0.322344</td>\n",
       "      <td>-0.266021</td>\n",
       "      <td>0.252272</td>\n",
       "      <td>-0.426056</td>\n",
       "      <td>0.051791</td>\n",
       "      <td>0.853665</td>\n",
       "      <td>-0.773508</td>\n",
       "      <td>0.466166</td>\n",
       "      <td>-0.064770</td>\n",
       "      <td>&lt;=50K</td>\n",
       "    </tr>\n",
       "    <tr>\n",
       "      <th>1</th>\n",
       "      <td>2.226904</td>\n",
       "      <td>1.594715</td>\n",
       "      <td>-0.732083</td>\n",
       "      <td>-0.582928</td>\n",
       "      <td>0.054350</td>\n",
       "      <td>0.429844</td>\n",
       "      <td>-0.039662</td>\n",
       "      <td>1.000275</td>\n",
       "      <td>0.209847</td>\n",
       "      <td>0.679798</td>\n",
       "      <td>...</td>\n",
       "      <td>-1.039511</td>\n",
       "      <td>0.061724</td>\n",
       "      <td>-0.355513</td>\n",
       "      <td>1.642111</td>\n",
       "      <td>-1.653340</td>\n",
       "      <td>-0.382266</td>\n",
       "      <td>-0.152825</td>\n",
       "      <td>-0.393192</td>\n",
       "      <td>0.398895</td>\n",
       "      <td>&lt;=50K</td>\n",
       "    </tr>\n",
       "    <tr>\n",
       "      <th>2</th>\n",
       "      <td>2.307044</td>\n",
       "      <td>-1.168832</td>\n",
       "      <td>-0.200521</td>\n",
       "      <td>0.097952</td>\n",
       "      <td>-1.635067</td>\n",
       "      <td>2.571033</td>\n",
       "      <td>1.024094</td>\n",
       "      <td>-0.651146</td>\n",
       "      <td>-1.099703</td>\n",
       "      <td>-3.652572</td>\n",
       "      <td>...</td>\n",
       "      <td>-0.314783</td>\n",
       "      <td>0.077195</td>\n",
       "      <td>-0.472801</td>\n",
       "      <td>0.653684</td>\n",
       "      <td>1.100821</td>\n",
       "      <td>-0.205823</td>\n",
       "      <td>0.020513</td>\n",
       "      <td>-0.194492</td>\n",
       "      <td>0.308206</td>\n",
       "      <td>&gt;50K</td>\n",
       "    </tr>\n",
       "    <tr>\n",
       "      <th>3</th>\n",
       "      <td>1.080755</td>\n",
       "      <td>1.260533</td>\n",
       "      <td>0.937857</td>\n",
       "      <td>-0.024262</td>\n",
       "      <td>-3.174398</td>\n",
       "      <td>-0.970844</td>\n",
       "      <td>-0.340336</td>\n",
       "      <td>-1.973938</td>\n",
       "      <td>-0.711191</td>\n",
       "      <td>1.075373</td>\n",
       "      <td>...</td>\n",
       "      <td>0.651033</td>\n",
       "      <td>0.491425</td>\n",
       "      <td>0.776518</td>\n",
       "      <td>0.289192</td>\n",
       "      <td>0.192050</td>\n",
       "      <td>-0.267516</td>\n",
       "      <td>-0.415089</td>\n",
       "      <td>-0.484431</td>\n",
       "      <td>0.364319</td>\n",
       "      <td>&gt;50K</td>\n",
       "    </tr>\n",
       "    <tr>\n",
       "      <th>4</th>\n",
       "      <td>-1.759546</td>\n",
       "      <td>1.778058</td>\n",
       "      <td>-1.256430</td>\n",
       "      <td>0.402017</td>\n",
       "      <td>0.646302</td>\n",
       "      <td>1.112461</td>\n",
       "      <td>-0.656860</td>\n",
       "      <td>0.304387</td>\n",
       "      <td>1.071483</td>\n",
       "      <td>0.751177</td>\n",
       "      <td>...</td>\n",
       "      <td>-0.341200</td>\n",
       "      <td>0.427165</td>\n",
       "      <td>0.069133</td>\n",
       "      <td>-0.864467</td>\n",
       "      <td>0.492786</td>\n",
       "      <td>-0.925634</td>\n",
       "      <td>0.280922</td>\n",
       "      <td>0.994358</td>\n",
       "      <td>-0.493925</td>\n",
       "      <td>&lt;=50K</td>\n",
       "    </tr>\n",
       "    <tr>\n",
       "      <th>...</th>\n",
       "      <td>...</td>\n",
       "      <td>...</td>\n",
       "      <td>...</td>\n",
       "      <td>...</td>\n",
       "      <td>...</td>\n",
       "      <td>...</td>\n",
       "      <td>...</td>\n",
       "      <td>...</td>\n",
       "      <td>...</td>\n",
       "      <td>...</td>\n",
       "      <td>...</td>\n",
       "      <td>...</td>\n",
       "      <td>...</td>\n",
       "      <td>...</td>\n",
       "      <td>...</td>\n",
       "      <td>...</td>\n",
       "      <td>...</td>\n",
       "      <td>...</td>\n",
       "      <td>...</td>\n",
       "      <td>...</td>\n",
       "      <td>...</td>\n",
       "    </tr>\n",
       "    <tr>\n",
       "      <th>15055</th>\n",
       "      <td>-0.603437</td>\n",
       "      <td>-1.380653</td>\n",
       "      <td>-1.217944</td>\n",
       "      <td>3.023232</td>\n",
       "      <td>0.463631</td>\n",
       "      <td>0.320846</td>\n",
       "      <td>0.117746</td>\n",
       "      <td>-0.907320</td>\n",
       "      <td>1.101617</td>\n",
       "      <td>0.372391</td>\n",
       "      <td>...</td>\n",
       "      <td>-0.188856</td>\n",
       "      <td>0.102889</td>\n",
       "      <td>0.003352</td>\n",
       "      <td>0.969400</td>\n",
       "      <td>0.325052</td>\n",
       "      <td>1.506765</td>\n",
       "      <td>-0.047672</td>\n",
       "      <td>0.319851</td>\n",
       "      <td>-1.221906</td>\n",
       "      <td>&lt;=50K</td>\n",
       "    </tr>\n",
       "    <tr>\n",
       "      <th>15056</th>\n",
       "      <td>-1.670443</td>\n",
       "      <td>-3.020764</td>\n",
       "      <td>0.059822</td>\n",
       "      <td>-0.326201</td>\n",
       "      <td>1.744026</td>\n",
       "      <td>-0.876546</td>\n",
       "      <td>-1.136618</td>\n",
       "      <td>-0.761872</td>\n",
       "      <td>0.720123</td>\n",
       "      <td>-0.079865</td>\n",
       "      <td>...</td>\n",
       "      <td>-0.158983</td>\n",
       "      <td>0.387623</td>\n",
       "      <td>-0.149291</td>\n",
       "      <td>0.919562</td>\n",
       "      <td>0.137806</td>\n",
       "      <td>0.821065</td>\n",
       "      <td>-0.053937</td>\n",
       "      <td>-1.401547</td>\n",
       "      <td>-0.662635</td>\n",
       "      <td>&lt;=50K</td>\n",
       "    </tr>\n",
       "    <tr>\n",
       "      <th>15057</th>\n",
       "      <td>2.395832</td>\n",
       "      <td>-1.468597</td>\n",
       "      <td>-0.209425</td>\n",
       "      <td>1.122402</td>\n",
       "      <td>0.364606</td>\n",
       "      <td>-0.944486</td>\n",
       "      <td>0.190120</td>\n",
       "      <td>-1.382649</td>\n",
       "      <td>0.773748</td>\n",
       "      <td>0.171544</td>\n",
       "      <td>...</td>\n",
       "      <td>-0.488672</td>\n",
       "      <td>-0.211695</td>\n",
       "      <td>0.427440</td>\n",
       "      <td>0.216012</td>\n",
       "      <td>0.330597</td>\n",
       "      <td>0.638795</td>\n",
       "      <td>0.215296</td>\n",
       "      <td>-0.532991</td>\n",
       "      <td>-1.089635</td>\n",
       "      <td>&lt;=50K</td>\n",
       "    </tr>\n",
       "    <tr>\n",
       "      <th>15058</th>\n",
       "      <td>-1.140395</td>\n",
       "      <td>-1.036781</td>\n",
       "      <td>2.580795</td>\n",
       "      <td>2.251643</td>\n",
       "      <td>-1.495169</td>\n",
       "      <td>-1.684794</td>\n",
       "      <td>-0.913144</td>\n",
       "      <td>2.031935</td>\n",
       "      <td>-0.905050</td>\n",
       "      <td>-0.245674</td>\n",
       "      <td>...</td>\n",
       "      <td>1.018273</td>\n",
       "      <td>2.174690</td>\n",
       "      <td>-0.425788</td>\n",
       "      <td>0.167408</td>\n",
       "      <td>0.560413</td>\n",
       "      <td>2.514837</td>\n",
       "      <td>-0.992345</td>\n",
       "      <td>1.516196</td>\n",
       "      <td>-0.091726</td>\n",
       "      <td>&lt;=50K</td>\n",
       "    </tr>\n",
       "    <tr>\n",
       "      <th>15059</th>\n",
       "      <td>3.384451</td>\n",
       "      <td>-1.954816</td>\n",
       "      <td>-0.172792</td>\n",
       "      <td>0.603588</td>\n",
       "      <td>0.377618</td>\n",
       "      <td>0.007115</td>\n",
       "      <td>-0.009551</td>\n",
       "      <td>-0.042785</td>\n",
       "      <td>-1.856118</td>\n",
       "      <td>1.845860</td>\n",
       "      <td>...</td>\n",
       "      <td>-0.667836</td>\n",
       "      <td>-0.282967</td>\n",
       "      <td>-0.036093</td>\n",
       "      <td>-0.108368</td>\n",
       "      <td>1.204187</td>\n",
       "      <td>0.330331</td>\n",
       "      <td>-0.194209</td>\n",
       "      <td>-0.178972</td>\n",
       "      <td>0.012600</td>\n",
       "      <td>&gt;50K</td>\n",
       "    </tr>\n",
       "  </tbody>\n",
       "</table>\n",
       "<p>15060 rows × 91 columns</p>\n",
       "</div>"
      ],
      "text/plain": [
       "              0         1         2         3         4         5         6  \\\n",
       "0     -2.242938  2.603181 -0.327617  2.062024 -3.245808  0.812560 -0.442784   \n",
       "1      2.226904  1.594715 -0.732083 -0.582928  0.054350  0.429844 -0.039662   \n",
       "2      2.307044 -1.168832 -0.200521  0.097952 -1.635067  2.571033  1.024094   \n",
       "3      1.080755  1.260533  0.937857 -0.024262 -3.174398 -0.970844 -0.340336   \n",
       "4     -1.759546  1.778058 -1.256430  0.402017  0.646302  1.112461 -0.656860   \n",
       "...         ...       ...       ...       ...       ...       ...       ...   \n",
       "15055 -0.603437 -1.380653 -1.217944  3.023232  0.463631  0.320846  0.117746   \n",
       "15056 -1.670443 -3.020764  0.059822 -0.326201  1.744026 -0.876546 -1.136618   \n",
       "15057  2.395832 -1.468597 -0.209425  1.122402  0.364606 -0.944486  0.190120   \n",
       "15058 -1.140395 -1.036781  2.580795  2.251643 -1.495169 -1.684794 -0.913144   \n",
       "15059  3.384451 -1.954816 -0.172792  0.603588  0.377618  0.007115 -0.009551   \n",
       "\n",
       "              7         8         9  ...        81        82        83  \\\n",
       "0     -1.685650  0.924250  1.891991  ...  0.322344 -0.266021  0.252272   \n",
       "1      1.000275  0.209847  0.679798  ... -1.039511  0.061724 -0.355513   \n",
       "2     -0.651146 -1.099703 -3.652572  ... -0.314783  0.077195 -0.472801   \n",
       "3     -1.973938 -0.711191  1.075373  ...  0.651033  0.491425  0.776518   \n",
       "4      0.304387  1.071483  0.751177  ... -0.341200  0.427165  0.069133   \n",
       "...         ...       ...       ...  ...       ...       ...       ...   \n",
       "15055 -0.907320  1.101617  0.372391  ... -0.188856  0.102889  0.003352   \n",
       "15056 -0.761872  0.720123 -0.079865  ... -0.158983  0.387623 -0.149291   \n",
       "15057 -1.382649  0.773748  0.171544  ... -0.488672 -0.211695  0.427440   \n",
       "15058  2.031935 -0.905050 -0.245674  ...  1.018273  2.174690 -0.425788   \n",
       "15059 -0.042785 -1.856118  1.845860  ... -0.667836 -0.282967 -0.036093   \n",
       "\n",
       "             84        85        86        87        88        89  Salary  \n",
       "0     -0.426056  0.051791  0.853665 -0.773508  0.466166 -0.064770   <=50K  \n",
       "1      1.642111 -1.653340 -0.382266 -0.152825 -0.393192  0.398895   <=50K  \n",
       "2      0.653684  1.100821 -0.205823  0.020513 -0.194492  0.308206    >50K  \n",
       "3      0.289192  0.192050 -0.267516 -0.415089 -0.484431  0.364319    >50K  \n",
       "4     -0.864467  0.492786 -0.925634  0.280922  0.994358 -0.493925   <=50K  \n",
       "...         ...       ...       ...       ...       ...       ...     ...  \n",
       "15055  0.969400  0.325052  1.506765 -0.047672  0.319851 -1.221906   <=50K  \n",
       "15056  0.919562  0.137806  0.821065 -0.053937 -1.401547 -0.662635   <=50K  \n",
       "15057  0.216012  0.330597  0.638795  0.215296 -0.532991 -1.089635   <=50K  \n",
       "15058  0.167408  0.560413  2.514837 -0.992345  1.516196 -0.091726   <=50K  \n",
       "15059 -0.108368  1.204187  0.330331 -0.194209 -0.178972  0.012600    >50K  \n",
       "\n",
       "[15060 rows x 91 columns]"
      ]
     },
     "execution_count": 27,
     "metadata": {},
     "output_type": "execute_result"
    }
   ],
   "source": [
    "test_final = pd.concat([pd.DataFrame(X_test_pca_values[:,0:90]),Y_test],axis=1)\n",
    "test_final"
   ]
  },
  {
   "cell_type": "markdown",
   "id": "cb6f7158",
   "metadata": {},
   "source": [
    "##### Since the dataset is huge, we'll use some part of it , to reduce time consumed."
   ]
  },
  {
   "cell_type": "code",
   "execution_count": 28,
   "id": "88c74d98",
   "metadata": {},
   "outputs": [],
   "source": [
    "array = train_final.values\n",
    "X = array[0:1000,0:90]\n",
    "Y = array[0:1000,90]\n",
    "\n",
    "array1 = test_final.values\n",
    "x = array1[0:1000,0:90]\n",
    "y = array1[0:1000,90]"
   ]
  },
  {
   "cell_type": "markdown",
   "id": "cfaf965b",
   "metadata": {},
   "source": [
    "## SVM"
   ]
  },
  {
   "cell_type": "code",
   "execution_count": 30,
   "id": "aec55b26",
   "metadata": {},
   "outputs": [],
   "source": [
    "import pandas as pd\n",
    "import numpy as np\n",
    "from sklearn.feature_extraction.text import CountVectorizer, TfidfVectorizer\n",
    "from sklearn.preprocessing import StandardScaler\n",
    "\n",
    "from sklearn import svm\n",
    "from sklearn.svm import SVC\n",
    "from sklearn.model_selection import GridSearchCV\n",
    "from sklearn.metrics import classification_report\n",
    "\n",
    "\n",
    "from sklearn.metrics import accuracy_score, confusion_matrix\n",
    "from sklearn.model_selection import train_test_split, cross_val_score"
   ]
  },
  {
   "cell_type": "code",
   "execution_count": 31,
   "id": "2ceba1fb",
   "metadata": {},
   "outputs": [
    {
     "name": "stdout",
     "output_type": "stream",
     "text": [
      "Best parameters are:  {'C': 100, 'gamma': 0.0001, 'kernel': 'rbf'}\n",
      "Best Accuracy is:  0.834\n"
     ]
    }
   ],
   "source": [
    "clf = SVC()\n",
    "param_grid = [{'kernel':['rbf'],'gamma':[0.9,0.5,0.1,.01,.0001],'C':[1,10,100] },\n",
    "             {'kernel':['linear'],'C':[1,10,100]}]\n",
    "gsv = GridSearchCV(clf,param_grid,cv=10,n_jobs=-1)\n",
    "gsv.fit(X,Y)\n",
    "\n",
    "print(\"Best parameters are: \",gsv.best_params_)\n",
    "print(\"Best Accuracy is: \", gsv.best_score_)"
   ]
  },
  {
   "cell_type": "code",
   "execution_count": 35,
   "id": "835a0be2",
   "metadata": {},
   "outputs": [
    {
     "name": "stdout",
     "output_type": "stream",
     "text": [
      "Accuracy of test data is(in %) = 79.5\n",
      "[[666  84]\n",
      " [121 129]]\n"
     ]
    }
   ],
   "source": [
    "clf= SVC(C=100, gamma =0.0001, kernel='rbf')\n",
    "clf.fit(X,Y)\n",
    "y_pred_test = clf.predict(x)\n",
    "acc = accuracy_score(y, y_pred_test) * 100\n",
    "print(\"Accuracy of test data is(in %) =\", acc)\n",
    "print(confusion_matrix(y, y_pred_test))\n"
   ]
  },
  {
   "cell_type": "markdown",
   "id": "f76b3205",
   "metadata": {},
   "source": [
    "### Ensemble Methods : to further improve the accuracy"
   ]
  },
  {
   "cell_type": "markdown",
   "id": "ae4d427c",
   "metadata": {},
   "source": [
    "##### Bagging"
   ]
  },
  {
   "cell_type": "code",
   "execution_count": 41,
   "id": "b61b748e",
   "metadata": {},
   "outputs": [
    {
     "name": "stdout",
     "output_type": "stream",
     "text": [
      "0.794\n"
     ]
    }
   ],
   "source": [
    "from sklearn.model_selection import KFold\n",
    "from sklearn.model_selection import cross_val_score\n",
    "from sklearn.ensemble import BaggingClassifier\n",
    "from sklearn.tree import DecisionTreeClassifier\n",
    "\n",
    "seed = 7\n",
    "cart = DecisionTreeClassifier()\n",
    "num_trees = 100\n",
    "modelbag = BaggingClassifier(base_estimator=cart, n_estimators=num_trees, random_state=seed)\n",
    "model_bag = modelbag.fit(X,Y)\n",
    "results_bag = model_bag.score(x,y)\n",
    "print(np.round(results_bag, 4))"
   ]
  },
  {
   "cell_type": "markdown",
   "id": "a60e5e94",
   "metadata": {},
   "source": [
    "### Random Forest"
   ]
  },
  {
   "cell_type": "code",
   "execution_count": 42,
   "id": "89a82e90",
   "metadata": {},
   "outputs": [
    {
     "name": "stdout",
     "output_type": "stream",
     "text": [
      "75.2\n"
     ]
    }
   ],
   "source": [
    "# Random Forest Classification\n",
    "\n",
    "from sklearn.ensemble import RandomForestClassifier\n",
    "\n",
    "num_trees = 100\n",
    "max_features = 3\n",
    "modelrf = RandomForestClassifier(n_estimators=num_trees, max_features=max_features, random_state = seed)\n",
    "model_rf = modelrf.fit(X,Y)\n",
    "results_rf = model_rf.score(x,y)\n",
    "print(np.round(results_rf, 4)*100)"
   ]
  },
  {
   "cell_type": "markdown",
   "id": "e641c904",
   "metadata": {},
   "source": [
    "#### Boosting"
   ]
  },
  {
   "cell_type": "code",
   "execution_count": 39,
   "id": "c3035b70",
   "metadata": {},
   "outputs": [],
   "source": [
    "kfold = KFold(n_splits=10, random_state=7,shuffle=True)"
   ]
  },
  {
   "cell_type": "code",
   "execution_count": 43,
   "id": "af1aa874",
   "metadata": {},
   "outputs": [
    {
     "name": "stdout",
     "output_type": "stream",
     "text": [
      "77.2\n"
     ]
    }
   ],
   "source": [
    "from sklearn.linear_model import LogisticRegression\n",
    "from sklearn.svm import SVC\n",
    "from sklearn.ensemble import VotingClassifier\n",
    "from sklearn.model_selection import KFold\n",
    "from sklearn.model_selection import cross_val_score\n",
    "from sklearn.ensemble import AdaBoostClassifier\n",
    "import warnings\n",
    "warnings.filterwarnings('ignore')\n",
    "\n",
    "\n",
    "modelada = AdaBoostClassifier(n_estimators=num_trees)\n",
    "model_ada = modelada.fit(X,Y)\n",
    "results_boost = cross_val_score(model_ada, x, y, cv=kfold)\n",
    "print(results_boost.mean()*100)"
   ]
  },
  {
   "cell_type": "markdown",
   "id": "43dacd32",
   "metadata": {},
   "source": [
    "### Stacking"
   ]
  },
  {
   "cell_type": "code",
   "execution_count": 44,
   "id": "aa8b053e",
   "metadata": {},
   "outputs": [],
   "source": [
    "from sklearn.linear_model import LogisticRegression\n",
    "from sklearn.tree import DecisionTreeClassifier\n",
    "from sklearn.svm import SVC\n",
    "from sklearn.ensemble import VotingClassifier"
   ]
  },
  {
   "cell_type": "code",
   "execution_count": 45,
   "id": "0ae07131",
   "metadata": {},
   "outputs": [],
   "source": [
    "kfold = KFold(n_splits=10, random_state=7,shuffle=True)"
   ]
  },
  {
   "cell_type": "code",
   "execution_count": 47,
   "id": "60e03cfe",
   "metadata": {},
   "outputs": [
    {
     "name": "stdout",
     "output_type": "stream",
     "text": [
      "80.20000000000002\n"
     ]
    }
   ],
   "source": [
    "#Iteration1\n",
    "\n",
    "estimators1 = []\n",
    "model1 = LogisticRegression(max_iter=500)\n",
    "estimators1.append(('logistic', model1))\n",
    "\n",
    "model2 = DecisionTreeClassifier()\n",
    "estimators1.append(('cart', model2))\n",
    "\n",
    "model3 = SVC()\n",
    "estimators1.append(('svm', model3))\n",
    "\n",
    "model4 = BaggingClassifier(base_estimator=cart, n_estimators=num_trees)\n",
    "estimators1.append(('bagging', model4))\n",
    "\n",
    "model5 = AdaBoostClassifier(n_estimators=num_trees)\n",
    "estimators1.append(('boosting', model5))\n",
    "\n",
    "# create the ensemble modelIter\n",
    "ensemble1 = VotingClassifier(estimators1)\n",
    "it1 = ensemble1.fit(X,Y)\n",
    "results1 = cross_val_score(it1, x, y, cv=kfold)\n",
    "print(results1.mean()*100)\n"
   ]
  },
  {
   "cell_type": "code",
   "execution_count": 48,
   "id": "52ef5c29",
   "metadata": {},
   "outputs": [
    {
     "name": "stdout",
     "output_type": "stream",
     "text": [
      "The accuracy is(in %) :  78.3\n"
     ]
    }
   ],
   "source": [
    "# Iteration = 2\n",
    "estimators2 = []\n",
    "model6 = LogisticRegression(max_iter=500)\n",
    "estimators2.append(('logistic', model6))\n",
    "\n",
    "model7 = DecisionTreeClassifier()\n",
    "estimators2.append(('cart', model7))\n",
    "\n",
    "model8 = BaggingClassifier(base_estimator=cart, n_estimators=num_trees)\n",
    "estimators2.append(('bagging', model8))\n",
    "\n",
    "model9 = AdaBoostClassifier(n_estimators=num_trees)\n",
    "estimators2.append(('boosting', model9))\n",
    "\n",
    "# create the ensemble model\n",
    "ensemble2 = VotingClassifier(estimators2)\n",
    "it2 = ensemble2.fit(X,Y)\n",
    "results2 = cross_val_score(it2, x, y, cv=kfold)\n",
    "print(\"The accuracy is(in %) : \",results2.mean()*100)"
   ]
  },
  {
   "cell_type": "code",
   "execution_count": 52,
   "id": "ed2e821d",
   "metadata": {},
   "outputs": [
    {
     "name": "stdout",
     "output_type": "stream",
     "text": [
      "The accuracy on train data is (in %):  81.4\n",
      "The accuracy on test data is (in %):  78.89999999999999\n"
     ]
    }
   ],
   "source": [
    "# Iteration = 3\n",
    "estimators3 = []\n",
    "model10 = LogisticRegression(max_iter=500)\n",
    "estimators3.append(('logistic', model10))\n",
    "\n",
    "model11 = DecisionTreeClassifier()\n",
    "estimators3.append(('cart', model11))\n",
    "\n",
    "model12 = AdaBoostClassifier(n_estimators=num_trees)\n",
    "estimators3.append(('boosting', model12))\n",
    "\n",
    "# create the ensemble modSel\n",
    "ensemble3 = VotingClassifier(estimators3)\n",
    "results3 = cross_val_score(ensemble3, X, Y, cv=kfold)\n",
    "results3_test = cross_val_score(ensemble3, x, y, cv=kfold)\n",
    "print(\"The accuracy on train data is (in %): \",results3.mean()*100)\n",
    "print(\"The accuracy on test data is (in %): \",results3_test.mean()*100)"
   ]
  },
  {
   "cell_type": "code",
   "execution_count": 50,
   "id": "d389dcfb",
   "metadata": {},
   "outputs": [
    {
     "name": "stdout",
     "output_type": "stream",
     "text": [
      "Tha accuracy on train data is(in %):  79.9\n",
      "Tha accuracy on test data is(in %):  78.10000000000001\n"
     ]
    }
   ],
   "source": [
    "#Iteration = 4\n",
    "estimators4 = []\n",
    "model13 = DecisionTreeClassifier()\n",
    "estimators4.append(('cart', model13))\n",
    "\n",
    "model14 = AdaBoostClassifier(n_estimators=num_trees)\n",
    "estimators4.append(('boosting', model14))\n",
    "\n",
    "# create the ensemble model\n",
    "ensemble4 = VotingClassifier(estimators4)\n",
    "results4 = cross_val_score(ensemble4, X, Y, cv=kfold)\n",
    "results4_test = cross_val_score(ensemble4, x, y, cv=kfold)\n",
    "print(\"Tha accuracy on train data is(in %): \",results4.mean()*100)\n",
    "print(\"Tha accuracy on test data is(in %): \",results4_test.mean()*100)"
   ]
  },
  {
   "cell_type": "code",
   "execution_count": 51,
   "id": "eb5f72b6",
   "metadata": {},
   "outputs": [
    {
     "name": "stdout",
     "output_type": "stream",
     "text": [
      "The accuracy on train data is(in %):  80.59999999999998\n",
      "The accuracy on train data is(in %):  78.89999999999999\n"
     ]
    }
   ],
   "source": [
    "#Iteration = 5\n",
    "estimators5 = []\n",
    "model15 = LogisticRegression(max_iter=500)\n",
    "estimators5.append(('logistic', model15))\n",
    "\n",
    "model16 = AdaBoostClassifier(n_estimators=num_trees)\n",
    "estimators5.append(('boosting', model16))\n",
    "\n",
    "# create the ensemble model\n",
    "ensemble5 = VotingClassifier(estimators5)\n",
    "results5 = cross_val_score(ensemble5, X, Y, cv=kfold)\n",
    "results5_test = cross_val_score(ensemble5, x, y, cv=kfold)\n",
    "print(\"The accuracy on train data is(in %): \",results5.mean()*100)\n",
    "print(\"The accuracy on test data is(in %): \",results5_test.mean()*100)"
   ]
  },
  {
   "cell_type": "markdown",
   "id": "86dec99a",
   "metadata": {},
   "source": [
    "## So, best accuracy I got as around 80 %"
   ]
  },
  {
   "cell_type": "code",
   "execution_count": null,
   "id": "53333467",
   "metadata": {},
   "outputs": [],
   "source": []
  }
 ],
 "metadata": {
  "kernelspec": {
   "display_name": "Python 3 (ipykernel)",
   "language": "python",
   "name": "python3"
  },
  "language_info": {
   "codemirror_mode": {
    "name": "ipython",
    "version": 3
   },
   "file_extension": ".py",
   "mimetype": "text/x-python",
   "name": "python",
   "nbconvert_exporter": "python",
   "pygments_lexer": "ipython3",
   "version": "3.8.10"
  }
 },
 "nbformat": 4,
 "nbformat_minor": 5
}
